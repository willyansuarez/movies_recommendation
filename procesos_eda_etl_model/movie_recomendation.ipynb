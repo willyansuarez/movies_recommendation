{
 "cells": [
  {
   "cell_type": "code",
   "execution_count": 67,
   "id": "3bbdbbe6",
   "metadata": {},
   "outputs": [],
   "source": [
    "# carga de librerías\n",
    "import numpy as np\n",
    "import pandas as pd\n",
    "from ast import literal_eval\n",
    "import datetime as dt\n",
    "import matplotlib.pyplot as plt\n",
    "import seaborn as sns"
   ]
  },
  {
   "cell_type": "code",
   "execution_count": 2,
   "id": "1456517e",
   "metadata": {},
   "outputs": [],
   "source": [
    "movies = pd.read_parquet(\"datasets/movies_dataset.parquet\")\n",
    "credits = pd.read_parquet(\"datasets/credits.parquet\")\n",
    "\n",
    "# movies = pd.read_csv(\"datasets/movies_dataset.csv\", low_memory=False)\n",
    "# credits = pd.read_csv(\"datasets/credits.csv\")"
   ]
  },
  {
   "cell_type": "code",
   "execution_count": 3,
   "id": "5f89d12e",
   "metadata": {},
   "outputs": [],
   "source": [
    "# credits.to_parquet(\"datasets/credits.parquet\")\n",
    "# movies.to_parquet(\"datasets/movies.parquet\")"
   ]
  },
  {
   "cell_type": "code",
   "execution_count": 4,
   "id": "aea5ba1d",
   "metadata": {},
   "outputs": [
    {
     "data": {
      "text/html": [
       "<div>\n",
       "<style scoped>\n",
       "    .dataframe tbody tr th:only-of-type {\n",
       "        vertical-align: middle;\n",
       "    }\n",
       "\n",
       "    .dataframe tbody tr th {\n",
       "        vertical-align: top;\n",
       "    }\n",
       "\n",
       "    .dataframe thead th {\n",
       "        text-align: right;\n",
       "    }\n",
       "</style>\n",
       "<table border=\"1\" class=\"dataframe\">\n",
       "  <thead>\n",
       "    <tr style=\"text-align: right;\">\n",
       "      <th></th>\n",
       "      <th>adult</th>\n",
       "      <th>belongs_to_collection</th>\n",
       "      <th>budget</th>\n",
       "      <th>genres</th>\n",
       "      <th>homepage</th>\n",
       "      <th>id</th>\n",
       "      <th>imdb_id</th>\n",
       "      <th>original_language</th>\n",
       "      <th>original_title</th>\n",
       "      <th>overview</th>\n",
       "      <th>...</th>\n",
       "      <th>release_date</th>\n",
       "      <th>revenue</th>\n",
       "      <th>runtime</th>\n",
       "      <th>spoken_languages</th>\n",
       "      <th>status</th>\n",
       "      <th>tagline</th>\n",
       "      <th>title</th>\n",
       "      <th>video</th>\n",
       "      <th>vote_average</th>\n",
       "      <th>vote_count</th>\n",
       "    </tr>\n",
       "  </thead>\n",
       "  <tbody>\n",
       "    <tr>\n",
       "      <th>0</th>\n",
       "      <td>False</td>\n",
       "      <td>{'id': 10194, 'name': 'Toy Story Collection', ...</td>\n",
       "      <td>30000000</td>\n",
       "      <td>[{'id': 16, 'name': 'Animation'}, {'id': 35, '...</td>\n",
       "      <td>http://toystory.disney.com/toy-story</td>\n",
       "      <td>862</td>\n",
       "      <td>tt0114709</td>\n",
       "      <td>en</td>\n",
       "      <td>Toy Story</td>\n",
       "      <td>Led by Woody, Andy's toys live happily in his ...</td>\n",
       "      <td>...</td>\n",
       "      <td>1995-10-30</td>\n",
       "      <td>373554033.0</td>\n",
       "      <td>81.0</td>\n",
       "      <td>[{'iso_639_1': 'en', 'name': 'English'}]</td>\n",
       "      <td>Released</td>\n",
       "      <td>None</td>\n",
       "      <td>Toy Story</td>\n",
       "      <td>False</td>\n",
       "      <td>7.7</td>\n",
       "      <td>5415.0</td>\n",
       "    </tr>\n",
       "  </tbody>\n",
       "</table>\n",
       "<p>1 rows × 24 columns</p>\n",
       "</div>"
      ],
      "text/plain": [
       "   adult                              belongs_to_collection    budget  \\\n",
       "0  False  {'id': 10194, 'name': 'Toy Story Collection', ...  30000000   \n",
       "\n",
       "                                              genres  \\\n",
       "0  [{'id': 16, 'name': 'Animation'}, {'id': 35, '...   \n",
       "\n",
       "                               homepage   id    imdb_id original_language  \\\n",
       "0  http://toystory.disney.com/toy-story  862  tt0114709                en   \n",
       "\n",
       "  original_title                                           overview  ...  \\\n",
       "0      Toy Story  Led by Woody, Andy's toys live happily in his ...  ...   \n",
       "\n",
       "  release_date      revenue runtime                          spoken_languages  \\\n",
       "0   1995-10-30  373554033.0    81.0  [{'iso_639_1': 'en', 'name': 'English'}]   \n",
       "\n",
       "     status  tagline      title  video vote_average vote_count  \n",
       "0  Released     None  Toy Story  False          7.7     5415.0  \n",
       "\n",
       "[1 rows x 24 columns]"
      ]
     },
     "execution_count": 4,
     "metadata": {},
     "output_type": "execute_result"
    }
   ],
   "source": [
    "movies.head(1)"
   ]
  },
  {
   "cell_type": "code",
   "execution_count": 5,
   "id": "5c8534f5",
   "metadata": {},
   "outputs": [
    {
     "data": {
      "text/html": [
       "<div>\n",
       "<style scoped>\n",
       "    .dataframe tbody tr th:only-of-type {\n",
       "        vertical-align: middle;\n",
       "    }\n",
       "\n",
       "    .dataframe tbody tr th {\n",
       "        vertical-align: top;\n",
       "    }\n",
       "\n",
       "    .dataframe thead th {\n",
       "        text-align: right;\n",
       "    }\n",
       "</style>\n",
       "<table border=\"1\" class=\"dataframe\">\n",
       "  <thead>\n",
       "    <tr style=\"text-align: right;\">\n",
       "      <th></th>\n",
       "      <th>cast</th>\n",
       "      <th>crew</th>\n",
       "      <th>id</th>\n",
       "    </tr>\n",
       "  </thead>\n",
       "  <tbody>\n",
       "    <tr>\n",
       "      <th>0</th>\n",
       "      <td>[{'cast_id': 14, 'character': 'Woody (voice)',...</td>\n",
       "      <td>[{'credit_id': '52fe4284c3a36847f8024f49', 'de...</td>\n",
       "      <td>862</td>\n",
       "    </tr>\n",
       "  </tbody>\n",
       "</table>\n",
       "</div>"
      ],
      "text/plain": [
       "                                                cast  \\\n",
       "0  [{'cast_id': 14, 'character': 'Woody (voice)',...   \n",
       "\n",
       "                                                crew   id  \n",
       "0  [{'credit_id': '52fe4284c3a36847f8024f49', 'de...  862  "
      ]
     },
     "execution_count": 5,
     "metadata": {},
     "output_type": "execute_result"
    }
   ],
   "source": [
    "credits.head(1)\n",
    "# credits[\"cast\"]\n",
    "# credits[\"cast\"][0]"
   ]
  },
  {
   "cell_type": "code",
   "execution_count": 6,
   "id": "0bc78558",
   "metadata": {},
   "outputs": [],
   "source": [
    "# función para obtener datos varios de los dataframe(info, describe, null, duplicated)\n",
    "def print_df_info(df):\n",
    "    \n",
    "    print(\"** Info - Información general **\")\n",
    "    print(df.info())\n",
    "\n",
    "    print(\"=======================================================\")\n",
    "\n",
    "    print(\"** Shape **\")\n",
    "    print(f\"Filas: {df.shape[0]} - Columnas: {df.shape[1]}\")\n",
    "\n",
    "    print(\"=======================================================\")\n",
    "\n",
    "    print(\"** Describe - Estadísticas resumidas **\")\n",
    "    print(df.describe().T)\n",
    "\n",
    "    print(\"=======================================================\")\n",
    "\n",
    "    print(\"** NaN - Nulos **\")\n",
    "    print(df.isna().sum())\n",
    "\n",
    "    print(\"=======================================================\")\n",
    "    print(\"** Duplicated - Duplicados **\")\n",
    "    print(df.duplicated().sum())"
   ]
  },
  {
   "cell_type": "code",
   "execution_count": 7,
   "id": "af43ed27",
   "metadata": {},
   "outputs": [
    {
     "name": "stdout",
     "output_type": "stream",
     "text": [
      "** Info - Información general **\n",
      "<class 'pandas.core.frame.DataFrame'>\n",
      "RangeIndex: 45466 entries, 0 to 45465\n",
      "Data columns (total 24 columns):\n",
      " #   Column                 Non-Null Count  Dtype  \n",
      "---  ------                 --------------  -----  \n",
      " 0   adult                  45466 non-null  object \n",
      " 1   belongs_to_collection  4494 non-null   object \n",
      " 2   budget                 45466 non-null  object \n",
      " 3   genres                 45466 non-null  object \n",
      " 4   homepage               7782 non-null   object \n",
      " 5   id                     45466 non-null  object \n",
      " 6   imdb_id                45449 non-null  object \n",
      " 7   original_language      45455 non-null  object \n",
      " 8   original_title         45466 non-null  object \n",
      " 9   overview               44512 non-null  object \n",
      " 10  popularity             45461 non-null  object \n",
      " 11  poster_path            45080 non-null  object \n",
      " 12  production_companies   45463 non-null  object \n",
      " 13  production_countries   45463 non-null  object \n",
      " 14  release_date           45379 non-null  object \n",
      " 15  revenue                45460 non-null  float64\n",
      " 16  runtime                45203 non-null  float64\n",
      " 17  spoken_languages       45460 non-null  object \n",
      " 18  status                 45379 non-null  object \n",
      " 19  tagline                20412 non-null  object \n",
      " 20  title                  45460 non-null  object \n",
      " 21  video                  45460 non-null  object \n",
      " 22  vote_average           45460 non-null  float64\n",
      " 23  vote_count             45460 non-null  float64\n",
      "dtypes: float64(4), object(20)\n",
      "memory usage: 8.3+ MB\n",
      "None\n",
      "=======================================================\n",
      "** Shape **\n",
      "Filas: 45466 - Columnas: 24\n",
      "=======================================================\n",
      "** Describe - Estadísticas resumidas **\n",
      "                count          mean           std  min   25%   50%    75%  \\\n",
      "revenue       45460.0  1.120935e+07  6.433225e+07  0.0   0.0   0.0    0.0   \n",
      "runtime       45203.0  9.412820e+01  3.840781e+01  0.0  85.0  95.0  107.0   \n",
      "vote_average  45460.0  5.618207e+00  1.924216e+00  0.0   5.0   6.0    6.8   \n",
      "vote_count    45460.0  1.098973e+02  4.913104e+02  0.0   3.0  10.0   34.0   \n",
      "\n",
      "                       max  \n",
      "revenue       2.787965e+09  \n",
      "runtime       1.256000e+03  \n",
      "vote_average  1.000000e+01  \n",
      "vote_count    1.407500e+04  \n",
      "=======================================================\n",
      "** NaN - Nulos **\n",
      "adult                        0\n",
      "belongs_to_collection    40972\n",
      "budget                       0\n",
      "genres                       0\n",
      "homepage                 37684\n",
      "id                           0\n",
      "imdb_id                     17\n",
      "original_language           11\n",
      "original_title               0\n",
      "overview                   954\n",
      "popularity                   5\n",
      "poster_path                386\n",
      "production_companies         3\n",
      "production_countries         3\n",
      "release_date                87\n",
      "revenue                      6\n",
      "runtime                    263\n",
      "spoken_languages             6\n",
      "status                      87\n",
      "tagline                  25054\n",
      "title                        6\n",
      "video                        6\n",
      "vote_average                 6\n",
      "vote_count                   6\n",
      "dtype: int64\n",
      "=======================================================\n",
      "** Duplicated - Duplicados **\n",
      "17\n"
     ]
    }
   ],
   "source": [
    "print_df_info(movies)"
   ]
  },
  {
   "cell_type": "code",
   "execution_count": 8,
   "id": "ce7d4497",
   "metadata": {},
   "outputs": [
    {
     "name": "stdout",
     "output_type": "stream",
     "text": [
      "** Info - Información general **\n",
      "<class 'pandas.core.frame.DataFrame'>\n",
      "RangeIndex: 45476 entries, 0 to 45475\n",
      "Data columns (total 3 columns):\n",
      " #   Column  Non-Null Count  Dtype \n",
      "---  ------  --------------  ----- \n",
      " 0   cast    45476 non-null  object\n",
      " 1   crew    45476 non-null  object\n",
      " 2   id      45476 non-null  int64 \n",
      "dtypes: int64(1), object(2)\n",
      "memory usage: 1.0+ MB\n",
      "None\n",
      "=======================================================\n",
      "** Shape **\n",
      "Filas: 45476 - Columnas: 3\n",
      "=======================================================\n",
      "** Describe - Estadísticas resumidas **\n",
      "      count           mean            std  min       25%      50%       75%  \\\n",
      "id  45476.0  108345.997537  112443.796536  2.0  26443.25  60002.5  157302.0   \n",
      "\n",
      "         max  \n",
      "id  469172.0  \n",
      "=======================================================\n",
      "** NaN - Nulos **\n",
      "cast    0\n",
      "crew    0\n",
      "id      0\n",
      "dtype: int64\n",
      "=======================================================\n",
      "** Duplicated - Duplicados **\n",
      "37\n"
     ]
    }
   ],
   "source": [
    "print_df_info(credits)"
   ]
  },
  {
   "cell_type": "markdown",
   "id": "05a7a1d6",
   "metadata": {},
   "source": [
    "**Transformaciones**\n",
    "* Eliminar las columnas que no serán utilizadas:   \n",
    "video, imdb_id, adult, original_title, poster_path y homepage."
   ]
  },
  {
   "cell_type": "code",
   "execution_count": 9,
   "id": "5c7617a2",
   "metadata": {},
   "outputs": [],
   "source": [
    "# eliminar columnas\n",
    "movies.drop([\"adult\", \"homepage\", \"imdb_id\", \"original_title\", \"popularity\", \"poster_path\", \"spoken_languages\", \"status\", \"video\", \"vote_average\", \"vote_count\"], axis=1, inplace=True)"
   ]
  },
  {
   "cell_type": "code",
   "execution_count": 10,
   "id": "25e5d755",
   "metadata": {},
   "outputs": [
    {
     "data": {
      "text/plain": [
       "Index(['belongs_to_collection', 'budget', 'genres', 'id', 'original_language',\n",
       "       'overview', 'production_companies', 'production_countries',\n",
       "       'release_date', 'revenue', 'runtime', 'tagline', 'title'],\n",
       "      dtype='object')"
      ]
     },
     "execution_count": 10,
     "metadata": {},
     "output_type": "execute_result"
    }
   ],
   "source": [
    "# visualizar columnas restantes\n",
    "movies.columns"
   ]
  },
  {
   "cell_type": "markdown",
   "id": "d651d171",
   "metadata": {},
   "source": [
    "* **Los valores nulos de los campos revenue, budget deben ser rellenados por el número 0.**"
   ]
  },
  {
   "cell_type": "code",
   "execution_count": 11,
   "id": "039e95ee",
   "metadata": {},
   "outputs": [],
   "source": [
    "# eliminar los duplicados\n",
    "movies.drop_duplicates(inplace=True)\n",
    "credits.drop_duplicates(inplace=True)"
   ]
  },
  {
   "cell_type": "code",
   "execution_count": 12,
   "id": "3843273b",
   "metadata": {},
   "outputs": [],
   "source": [
    "movies[\"budget\"] = movies[\"budget\"].fillna(0)\n",
    "movies[\"revenue\"] = movies[\"revenue\"].fillna(0)"
   ]
  },
  {
   "cell_type": "markdown",
   "id": "c27610d5",
   "metadata": {},
   "source": [
    "Crear la columna con el retorno de inversión, llamada **`return`** con los campos **`revenue`** y **`budget`**, dividiendo estas dos últimas **`revenue / budget`**, cuando no hay datos disponibles para calcularlo, deberá tomar el valor **`0`**.  \n",
    "Este paso arroja un error ya que la columna budget es de tipo object y revenue es de tipo float, por lo  \n",
    "que se procedió a cambiar el tipo de dato, paso que también arroja un error porque algunos campos de la columna budget contienen caracteres y números combinados.  \n",
    "Para solucionar esto se creó una función que devuelva que campos son solo números, solo letras o combinados, luego dependiendo de la cantidad de filas con el problema se procede a eliminarlas."
   ]
  },
  {
   "cell_type": "code",
   "execution_count": 13,
   "id": "e517367f",
   "metadata": {},
   "outputs": [
    {
     "name": "stdout",
     "output_type": "stream",
     "text": [
      "object\n",
      "float64\n"
     ]
    }
   ],
   "source": [
    "# determino los tipos de datos\n",
    "print(movies.budget.dtype)\n",
    "print(movies.revenue.dtype)"
   ]
  },
  {
   "cell_type": "code",
   "execution_count": 14,
   "id": "9752dbe8",
   "metadata": {},
   "outputs": [],
   "source": [
    "# función para determinar cuantas filas de la columna id de movies tienen caracteres, números\n",
    "# o una combinación de ambos\n",
    "def get_column_type(str):\n",
    "  if str.isdigit():\n",
    "    return \"numbers\"\n",
    "  elif str.isalpha():\n",
    "    return \"characters\"\n",
    "  else:\n",
    "    return \"mixed\""
   ]
  },
  {
   "cell_type": "code",
   "execution_count": 15,
   "id": "8e230ef8",
   "metadata": {},
   "outputs": [],
   "source": [
    "# aplicar la función sobre la columna y el resultado en una nueva columna\n",
    "movies[\"types\"] = movies[\"budget\"].apply(get_column_type)"
   ]
  },
  {
   "cell_type": "code",
   "execution_count": 16,
   "id": "9721d8fd",
   "metadata": {},
   "outputs": [
    {
     "data": {
      "text/plain": [
       "belongs_to_collection    3\n",
       "budget                   3\n",
       "genres                   3\n",
       "id                       3\n",
       "original_language        3\n",
       "overview                 3\n",
       "production_companies     3\n",
       "production_countries     3\n",
       "release_date             3\n",
       "revenue                  3\n",
       "runtime                  0\n",
       "tagline                  0\n",
       "title                    0\n",
       "types                    3\n",
       "dtype: int64"
      ]
     },
     "execution_count": 16,
     "metadata": {},
     "output_type": "execute_result"
    }
   ],
   "source": [
    "# visualizo la cantidad de filas con caracteres o con caracteres y números combinados\n",
    "# en este caso chequeo characters y mixed\n",
    "# movies[movies[\"types\"] == \"characters\"].count()\n",
    "movies[movies[\"types\"] == \"mixed\"].count()\n",
    "# movies[movies[\"types\"] == \"numbers\"].count()"
   ]
  },
  {
   "cell_type": "code",
   "execution_count": 17,
   "id": "6bf17293",
   "metadata": {},
   "outputs": [
    {
     "data": {
      "text/html": [
       "<div>\n",
       "<style scoped>\n",
       "    .dataframe tbody tr th:only-of-type {\n",
       "        vertical-align: middle;\n",
       "    }\n",
       "\n",
       "    .dataframe tbody tr th {\n",
       "        vertical-align: top;\n",
       "    }\n",
       "\n",
       "    .dataframe thead th {\n",
       "        text-align: right;\n",
       "    }\n",
       "</style>\n",
       "<table border=\"1\" class=\"dataframe\">\n",
       "  <thead>\n",
       "    <tr style=\"text-align: right;\">\n",
       "      <th></th>\n",
       "      <th>belongs_to_collection</th>\n",
       "      <th>budget</th>\n",
       "      <th>genres</th>\n",
       "      <th>id</th>\n",
       "      <th>original_language</th>\n",
       "      <th>overview</th>\n",
       "      <th>production_companies</th>\n",
       "      <th>production_countries</th>\n",
       "      <th>release_date</th>\n",
       "      <th>revenue</th>\n",
       "      <th>runtime</th>\n",
       "      <th>tagline</th>\n",
       "      <th>title</th>\n",
       "      <th>types</th>\n",
       "    </tr>\n",
       "  </thead>\n",
       "  <tbody>\n",
       "    <tr>\n",
       "      <th>19730</th>\n",
       "      <td>0.065736</td>\n",
       "      <td>/ff9qCepilowshEtG2GYWwzt2bs4.jpg</td>\n",
       "      <td>[{'name': 'Carousel Productions', 'id': 11176}...</td>\n",
       "      <td>1997-08-20</td>\n",
       "      <td>104.0</td>\n",
       "      <td>Released</td>\n",
       "      <td>False</td>\n",
       "      <td>6.0</td>\n",
       "      <td>1</td>\n",
       "      <td>0.0</td>\n",
       "      <td>NaN</td>\n",
       "      <td>None</td>\n",
       "      <td>None</td>\n",
       "      <td>mixed</td>\n",
       "    </tr>\n",
       "    <tr>\n",
       "      <th>29503</th>\n",
       "      <td>1.931659</td>\n",
       "      <td>/zV8bHuSL6WXoD6FWogP9j4x80bL.jpg</td>\n",
       "      <td>[{'name': 'Aniplex', 'id': 2883}, {'name': 'Go...</td>\n",
       "      <td>2012-09-29</td>\n",
       "      <td>68.0</td>\n",
       "      <td>Released</td>\n",
       "      <td>False</td>\n",
       "      <td>7.0</td>\n",
       "      <td>12</td>\n",
       "      <td>0.0</td>\n",
       "      <td>NaN</td>\n",
       "      <td>None</td>\n",
       "      <td>None</td>\n",
       "      <td>mixed</td>\n",
       "    </tr>\n",
       "    <tr>\n",
       "      <th>35587</th>\n",
       "      <td>2.185485</td>\n",
       "      <td>/zaSf5OG7V8X8gqFvly88zDdRm46.jpg</td>\n",
       "      <td>[{'name': 'Odyssey Media', 'id': 17161}, {'nam...</td>\n",
       "      <td>2014-01-01</td>\n",
       "      <td>82.0</td>\n",
       "      <td>Released</td>\n",
       "      <td>False</td>\n",
       "      <td>4.3</td>\n",
       "      <td>22</td>\n",
       "      <td>0.0</td>\n",
       "      <td>NaN</td>\n",
       "      <td>None</td>\n",
       "      <td>None</td>\n",
       "      <td>mixed</td>\n",
       "    </tr>\n",
       "  </tbody>\n",
       "</table>\n",
       "</div>"
      ],
      "text/plain": [
       "      belongs_to_collection                            budget  \\\n",
       "19730              0.065736  /ff9qCepilowshEtG2GYWwzt2bs4.jpg   \n",
       "29503              1.931659  /zV8bHuSL6WXoD6FWogP9j4x80bL.jpg   \n",
       "35587              2.185485  /zaSf5OG7V8X8gqFvly88zDdRm46.jpg   \n",
       "\n",
       "                                                  genres          id  \\\n",
       "19730  [{'name': 'Carousel Productions', 'id': 11176}...  1997-08-20   \n",
       "29503  [{'name': 'Aniplex', 'id': 2883}, {'name': 'Go...  2012-09-29   \n",
       "35587  [{'name': 'Odyssey Media', 'id': 17161}, {'nam...  2014-01-01   \n",
       "\n",
       "      original_language  overview production_companies production_countries  \\\n",
       "19730             104.0  Released                False                  6.0   \n",
       "29503              68.0  Released                False                  7.0   \n",
       "35587              82.0  Released                False                  4.3   \n",
       "\n",
       "      release_date  revenue  runtime tagline title  types  \n",
       "19730            1      0.0      NaN    None  None  mixed  \n",
       "29503           12      0.0      NaN    None  None  mixed  \n",
       "35587           22      0.0      NaN    None  None  mixed  "
      ]
     },
     "execution_count": 17,
     "metadata": {},
     "output_type": "execute_result"
    }
   ],
   "source": [
    "# visualizo las filas específicas\n",
    "movies[movies[\"types\"] == \"mixed\"]"
   ]
  },
  {
   "cell_type": "code",
   "execution_count": 18,
   "id": "dc72ae5c",
   "metadata": {},
   "outputs": [],
   "source": [
    "# elimino los tres(3) registros por id.\n",
    "movies = movies.drop([19730, 29503, 35587])"
   ]
  },
  {
   "cell_type": "code",
   "execution_count": 19,
   "id": "62727ea4",
   "metadata": {},
   "outputs": [],
   "source": [
    "# una vez eliminados se convierte el tipo de dato\n",
    "movies[\"budget\"] = movies[\"budget\"].astype('float')"
   ]
  },
  {
   "cell_type": "code",
   "execution_count": 20,
   "id": "dcfdd494",
   "metadata": {},
   "outputs": [
    {
     "name": "stdout",
     "output_type": "stream",
     "text": [
      "float64\n"
     ]
    }
   ],
   "source": [
    "print(movies.budget.dtype)"
   ]
  },
  {
   "cell_type": "code",
   "execution_count": 21,
   "id": "3d2117f1",
   "metadata": {},
   "outputs": [
    {
     "data": {
      "text/plain": [
       "0        12.451801\n",
       "1         4.043035\n",
       "2              NaN\n",
       "3         5.090760\n",
       "4              NaN\n",
       "           ...    \n",
       "45461          NaN\n",
       "45462          NaN\n",
       "45463          NaN\n",
       "45464          NaN\n",
       "45465          NaN\n",
       "Name: return, Length: 45433, dtype: float64"
      ]
     },
     "execution_count": 21,
     "metadata": {},
     "output_type": "execute_result"
    }
   ],
   "source": [
    "# Crear la columna con el retorno de inversión, llamada return con los campos revenue y budget,\n",
    "# dividiendo estas dos últimas revenue / budget, cuando no hay datos disponibles para calcularlo, \n",
    "# deberá tomar el valor 0.\n",
    "movies[\"return\"] = movies[\"revenue\"].where(movies[\"budget\"] != 0) / movies[\"budget\"]\n",
    "# movies[\"return\"] = movies[\"revenue\"] / movies[\"budget\"]\n",
    "movies[\"return\"]"
   ]
  },
  {
   "cell_type": "code",
   "execution_count": 22,
   "id": "c45db74c",
   "metadata": {},
   "outputs": [],
   "source": [
    "# elimino la columna types(tipos)\n",
    "movies.drop([\"types\"], axis=1, inplace=True)"
   ]
  },
  {
   "cell_type": "code",
   "execution_count": 23,
   "id": "084c313a",
   "metadata": {},
   "outputs": [
    {
     "data": {
      "text/plain": [
       "Index(['belongs_to_collection', 'budget', 'genres', 'id', 'original_language',\n",
       "       'overview', 'production_companies', 'production_countries',\n",
       "       'release_date', 'revenue', 'runtime', 'tagline', 'title', 'return'],\n",
       "      dtype='object')"
      ]
     },
     "execution_count": 23,
     "metadata": {},
     "output_type": "execute_result"
    }
   ],
   "source": [
    "# visualizar las columnas restantes\n",
    "movies.columns"
   ]
  },
  {
   "cell_type": "markdown",
   "id": "d6ff4a4e",
   "metadata": {},
   "source": [
    "* **Los valores nulos del campo release date deben eliminarse.**"
   ]
  },
  {
   "cell_type": "code",
   "execution_count": 24,
   "id": "40e9750f",
   "metadata": {},
   "outputs": [
    {
     "name": "stdout",
     "output_type": "stream",
     "text": [
      "87\n",
      "0\n"
     ]
    }
   ],
   "source": [
    "# conteo de nulos de la columna\n",
    "print(movies[\"release_date\"].isnull().sum())\n",
    "\n",
    "# eliminar nulos\n",
    "movies.dropna(subset=[\"release_date\"], inplace = True)\n",
    "\n",
    "# conteo de nulos\n",
    "print(movies[\"release_date\"].isnull().sum())"
   ]
  },
  {
   "cell_type": "markdown",
   "id": "0ac5d151",
   "metadata": {},
   "source": [
    "De haber fechas, deberán tener el formato **`AAAA-mm-dd`**, además deberán crear la columna **`release_year`** donde extraerán el año de la fecha de estreno.  \n",
    "la columna release_date al convertirla al formato datetime presentó problemas, para solucionar se creó una función   para extraer las fechas y limpiar las cadenas ya que la columna es de tipo object"
   ]
  },
  {
   "cell_type": "code",
   "execution_count": 25,
   "id": "ff2d0084",
   "metadata": {},
   "outputs": [],
   "source": [
    "fechas = movies[\"release_date\"].to_list()\n",
    "fechas2 = []\n",
    "for fecha in fechas:\n",
    "    fecha.strip\n",
    "    fechas2.append(fecha)\n",
    "# fechas2"
   ]
  },
  {
   "cell_type": "code",
   "execution_count": 26,
   "id": "8a529d2a",
   "metadata": {},
   "outputs": [],
   "source": [
    "# creo e inserto la columna\n",
    "movies.insert(10, \"release_date2\", fechas2)"
   ]
  },
  {
   "cell_type": "code",
   "execution_count": 27,
   "id": "a5bb6cfb",
   "metadata": {},
   "outputs": [
    {
     "data": {
      "text/html": [
       "<div>\n",
       "<style scoped>\n",
       "    .dataframe tbody tr th:only-of-type {\n",
       "        vertical-align: middle;\n",
       "    }\n",
       "\n",
       "    .dataframe tbody tr th {\n",
       "        vertical-align: top;\n",
       "    }\n",
       "\n",
       "    .dataframe thead th {\n",
       "        text-align: right;\n",
       "    }\n",
       "</style>\n",
       "<table border=\"1\" class=\"dataframe\">\n",
       "  <thead>\n",
       "    <tr style=\"text-align: right;\">\n",
       "      <th></th>\n",
       "      <th>release_date</th>\n",
       "      <th>release_date2</th>\n",
       "    </tr>\n",
       "  </thead>\n",
       "  <tbody>\n",
       "    <tr>\n",
       "      <th>0</th>\n",
       "      <td>1995-10-30</td>\n",
       "      <td>1995-10-30</td>\n",
       "    </tr>\n",
       "    <tr>\n",
       "      <th>1</th>\n",
       "      <td>1995-12-15</td>\n",
       "      <td>1995-12-15</td>\n",
       "    </tr>\n",
       "    <tr>\n",
       "      <th>2</th>\n",
       "      <td>1995-12-22</td>\n",
       "      <td>1995-12-22</td>\n",
       "    </tr>\n",
       "    <tr>\n",
       "      <th>3</th>\n",
       "      <td>1995-12-22</td>\n",
       "      <td>1995-12-22</td>\n",
       "    </tr>\n",
       "    <tr>\n",
       "      <th>4</th>\n",
       "      <td>1995-02-10</td>\n",
       "      <td>1995-02-10</td>\n",
       "    </tr>\n",
       "    <tr>\n",
       "      <th>...</th>\n",
       "      <td>...</td>\n",
       "      <td>...</td>\n",
       "    </tr>\n",
       "    <tr>\n",
       "      <th>45460</th>\n",
       "      <td>1991-05-13</td>\n",
       "      <td>1991-05-13</td>\n",
       "    </tr>\n",
       "    <tr>\n",
       "      <th>45462</th>\n",
       "      <td>2011-11-17</td>\n",
       "      <td>2011-11-17</td>\n",
       "    </tr>\n",
       "    <tr>\n",
       "      <th>45463</th>\n",
       "      <td>2003-08-01</td>\n",
       "      <td>2003-08-01</td>\n",
       "    </tr>\n",
       "    <tr>\n",
       "      <th>45464</th>\n",
       "      <td>1917-10-21</td>\n",
       "      <td>1917-10-21</td>\n",
       "    </tr>\n",
       "    <tr>\n",
       "      <th>45465</th>\n",
       "      <td>2017-06-09</td>\n",
       "      <td>2017-06-09</td>\n",
       "    </tr>\n",
       "  </tbody>\n",
       "</table>\n",
       "<p>45346 rows × 2 columns</p>\n",
       "</div>"
      ],
      "text/plain": [
       "      release_date release_date2\n",
       "0       1995-10-30    1995-10-30\n",
       "1       1995-12-15    1995-12-15\n",
       "2       1995-12-22    1995-12-22\n",
       "3       1995-12-22    1995-12-22\n",
       "4       1995-02-10    1995-02-10\n",
       "...            ...           ...\n",
       "45460   1991-05-13    1991-05-13\n",
       "45462   2011-11-17    2011-11-17\n",
       "45463   2003-08-01    2003-08-01\n",
       "45464   1917-10-21    1917-10-21\n",
       "45465   2017-06-09    2017-06-09\n",
       "\n",
       "[45346 rows x 2 columns]"
      ]
     },
     "execution_count": 27,
     "metadata": {},
     "output_type": "execute_result"
    }
   ],
   "source": [
    "# visualizo laas columnas para una rápida comparación\n",
    "movies[[\"release_date\", \"release_date2\"]]"
   ]
  },
  {
   "cell_type": "code",
   "execution_count": 28,
   "id": "cee3a32a",
   "metadata": {},
   "outputs": [],
   "source": [
    "# Elimino la columna original\n",
    "movies.drop(\"release_date\", axis=1, inplace=True)"
   ]
  },
  {
   "cell_type": "code",
   "execution_count": 29,
   "id": "4b51b9f2",
   "metadata": {},
   "outputs": [],
   "source": [
    "# renombro la columna \n",
    "movies = movies.rename(columns={\"release_date2\": \"release_date\"})"
   ]
  },
  {
   "cell_type": "code",
   "execution_count": 30,
   "id": "9696d801",
   "metadata": {},
   "outputs": [],
   "source": [
    "# Convertir a formato fecha:\n",
    "movies[\"release_date\"] = pd.to_datetime(movies[\"release_date\"], format=\"%Y-%m-%d\")"
   ]
  },
  {
   "cell_type": "code",
   "execution_count": 31,
   "id": "260ca07c",
   "metadata": {},
   "outputs": [
    {
     "data": {
      "text/plain": [
       "dtype('<M8[ns]')"
      ]
     },
     "execution_count": 31,
     "metadata": {},
     "output_type": "execute_result"
    }
   ],
   "source": [
    "# chequeo el tipo de dato\n",
    "movies.release_date.dtype"
   ]
  },
  {
   "cell_type": "code",
   "execution_count": 32,
   "id": "2f7346d4",
   "metadata": {},
   "outputs": [],
   "source": [
    "# crear la columna release_year extrayendo el año de relaese\n",
    "movies[\"release_year\"] = movies[\"release_date\"].dt.year"
   ]
  },
  {
   "cell_type": "code",
   "execution_count": 33,
   "id": "ea168514",
   "metadata": {},
   "outputs": [
    {
     "data": {
      "text/plain": [
       "dtype('int32')"
      ]
     },
     "execution_count": 33,
     "metadata": {},
     "output_type": "execute_result"
    }
   ],
   "source": [
    "# verifico el tipo de dato\n",
    "movies.release_year.dtype"
   ]
  },
  {
   "cell_type": "code",
   "execution_count": 34,
   "id": "33f06545",
   "metadata": {},
   "outputs": [
    {
     "data": {
      "text/plain": [
       "0        1995\n",
       "1        1995\n",
       "2        1995\n",
       "3        1995\n",
       "4        1995\n",
       "         ... \n",
       "45460    1991\n",
       "45462    2011\n",
       "45463    2003\n",
       "45464    1917\n",
       "45465    2017\n",
       "Name: release_year, Length: 45346, dtype: int32"
      ]
     },
     "execution_count": 34,
     "metadata": {},
     "output_type": "execute_result"
    }
   ],
   "source": [
    "# visualizar la columna\n",
    "movies.release_year"
   ]
  },
  {
   "cell_type": "markdown",
   "id": "d0757a76",
   "metadata": {},
   "source": [
    "**Desanidar las columnas que lo requieran, estas contienen los datos de tipo object, pero contienen  \n",
    "a su vez listas y diccionarios**"
   ]
  },
  {
   "cell_type": "code",
   "execution_count": 35,
   "id": "3b271844",
   "metadata": {},
   "outputs": [],
   "source": [
    "# Función para desanidar la columna 'belongs_to_collection'\n",
    "def extraer_collection_name(collection):\n",
    "    if pd.isnull(collection):\n",
    "        return np.nan\n",
    "    else:\n",
    "        try:\n",
    "            return literal_eval(collection)['name']\n",
    "        except (ValueError, TypeError):\n",
    "            return np.nan"
   ]
  },
  {
   "cell_type": "code",
   "execution_count": 36,
   "id": "756ee2bb",
   "metadata": {},
   "outputs": [],
   "source": [
    "# Luego aplicamos la funcion a 'belongs_to_collection'\n",
    "movies['belongs_to_collection'] = movies['belongs_to_collection'].apply(extraer_collection_name)"
   ]
  },
  {
   "cell_type": "code",
   "execution_count": 37,
   "id": "a3ed7870",
   "metadata": {},
   "outputs": [
    {
     "data": {
      "text/html": [
       "<div>\n",
       "<style scoped>\n",
       "    .dataframe tbody tr th:only-of-type {\n",
       "        vertical-align: middle;\n",
       "    }\n",
       "\n",
       "    .dataframe tbody tr th {\n",
       "        vertical-align: top;\n",
       "    }\n",
       "\n",
       "    .dataframe thead th {\n",
       "        text-align: right;\n",
       "    }\n",
       "</style>\n",
       "<table border=\"1\" class=\"dataframe\">\n",
       "  <thead>\n",
       "    <tr style=\"text-align: right;\">\n",
       "      <th></th>\n",
       "      <th>belongs_to_collection</th>\n",
       "      <th>budget</th>\n",
       "      <th>genres</th>\n",
       "      <th>id</th>\n",
       "      <th>original_language</th>\n",
       "      <th>overview</th>\n",
       "      <th>production_companies</th>\n",
       "      <th>production_countries</th>\n",
       "      <th>revenue</th>\n",
       "      <th>release_date</th>\n",
       "      <th>runtime</th>\n",
       "      <th>tagline</th>\n",
       "      <th>title</th>\n",
       "      <th>return</th>\n",
       "      <th>release_year</th>\n",
       "    </tr>\n",
       "  </thead>\n",
       "  <tbody>\n",
       "    <tr>\n",
       "      <th>0</th>\n",
       "      <td>Toy Story Collection</td>\n",
       "      <td>30000000.0</td>\n",
       "      <td>[{'id': 16, 'name': 'Animation'}, {'id': 35, '...</td>\n",
       "      <td>862</td>\n",
       "      <td>en</td>\n",
       "      <td>Led by Woody, Andy's toys live happily in his ...</td>\n",
       "      <td>[{'name': 'Pixar Animation Studios', 'id': 3}]</td>\n",
       "      <td>[{'iso_3166_1': 'US', 'name': 'United States o...</td>\n",
       "      <td>373554033.0</td>\n",
       "      <td>1995-10-30</td>\n",
       "      <td>81.0</td>\n",
       "      <td>None</td>\n",
       "      <td>Toy Story</td>\n",
       "      <td>12.451801</td>\n",
       "      <td>1995</td>\n",
       "    </tr>\n",
       "  </tbody>\n",
       "</table>\n",
       "</div>"
      ],
      "text/plain": [
       "  belongs_to_collection      budget  \\\n",
       "0  Toy Story Collection  30000000.0   \n",
       "\n",
       "                                              genres   id original_language  \\\n",
       "0  [{'id': 16, 'name': 'Animation'}, {'id': 35, '...  862                en   \n",
       "\n",
       "                                            overview  \\\n",
       "0  Led by Woody, Andy's toys live happily in his ...   \n",
       "\n",
       "                             production_companies  \\\n",
       "0  [{'name': 'Pixar Animation Studios', 'id': 3}]   \n",
       "\n",
       "                                production_countries      revenue  \\\n",
       "0  [{'iso_3166_1': 'US', 'name': 'United States o...  373554033.0   \n",
       "\n",
       "  release_date  runtime tagline      title     return  release_year  \n",
       "0   1995-10-30     81.0    None  Toy Story  12.451801          1995  "
      ]
     },
     "execution_count": 37,
     "metadata": {},
     "output_type": "execute_result"
    }
   ],
   "source": [
    "# verificar si la columna está desanidada\n",
    "movies.head(1)"
   ]
  },
  {
   "cell_type": "code",
   "execution_count": 38,
   "id": "0755c73e",
   "metadata": {},
   "outputs": [],
   "source": [
    "# función para extraer los datos de columnas anidadas\n",
    "def convert(obj):\n",
    "    L = []\n",
    "    for i in literal_eval(obj):\n",
    "        L.append(i[\"name\"])\n",
    "    return L"
   ]
  },
  {
   "cell_type": "code",
   "execution_count": 39,
   "id": "89606b79",
   "metadata": {},
   "outputs": [],
   "source": [
    "# desanidar y convertir estas columnas en listas\n",
    "movies[\"genres\"] = movies[\"genres\"].apply(convert)\n",
    "movies[\"production_companies\"] = movies[\"production_companies\"].apply(convert)\n",
    "movies[\"production_countries\"] = movies[\"production_countries\"].apply(convert)\n",
    "# movies[\"spoken_languages\"] = movies[\"spoken_languages\"].apply(convert)"
   ]
  },
  {
   "cell_type": "code",
   "execution_count": 40,
   "id": "619b063c",
   "metadata": {},
   "outputs": [
    {
     "data": {
      "text/html": [
       "<div>\n",
       "<style scoped>\n",
       "    .dataframe tbody tr th:only-of-type {\n",
       "        vertical-align: middle;\n",
       "    }\n",
       "\n",
       "    .dataframe tbody tr th {\n",
       "        vertical-align: top;\n",
       "    }\n",
       "\n",
       "    .dataframe thead th {\n",
       "        text-align: right;\n",
       "    }\n",
       "</style>\n",
       "<table border=\"1\" class=\"dataframe\">\n",
       "  <thead>\n",
       "    <tr style=\"text-align: right;\">\n",
       "      <th></th>\n",
       "      <th>belongs_to_collection</th>\n",
       "      <th>budget</th>\n",
       "      <th>genres</th>\n",
       "      <th>id</th>\n",
       "      <th>original_language</th>\n",
       "      <th>overview</th>\n",
       "      <th>production_companies</th>\n",
       "      <th>production_countries</th>\n",
       "      <th>revenue</th>\n",
       "      <th>release_date</th>\n",
       "      <th>runtime</th>\n",
       "      <th>tagline</th>\n",
       "      <th>title</th>\n",
       "      <th>return</th>\n",
       "      <th>release_year</th>\n",
       "    </tr>\n",
       "  </thead>\n",
       "  <tbody>\n",
       "    <tr>\n",
       "      <th>0</th>\n",
       "      <td>Toy Story Collection</td>\n",
       "      <td>30000000.0</td>\n",
       "      <td>[Animation, Comedy, Family]</td>\n",
       "      <td>862</td>\n",
       "      <td>en</td>\n",
       "      <td>Led by Woody, Andy's toys live happily in his ...</td>\n",
       "      <td>[Pixar Animation Studios]</td>\n",
       "      <td>[United States of America]</td>\n",
       "      <td>373554033.0</td>\n",
       "      <td>1995-10-30</td>\n",
       "      <td>81.0</td>\n",
       "      <td>None</td>\n",
       "      <td>Toy Story</td>\n",
       "      <td>12.451801</td>\n",
       "      <td>1995</td>\n",
       "    </tr>\n",
       "  </tbody>\n",
       "</table>\n",
       "</div>"
      ],
      "text/plain": [
       "  belongs_to_collection      budget                       genres   id  \\\n",
       "0  Toy Story Collection  30000000.0  [Animation, Comedy, Family]  862   \n",
       "\n",
       "  original_language                                           overview  \\\n",
       "0                en  Led by Woody, Andy's toys live happily in his ...   \n",
       "\n",
       "        production_companies        production_countries      revenue  \\\n",
       "0  [Pixar Animation Studios]  [United States of America]  373554033.0   \n",
       "\n",
       "  release_date  runtime tagline      title     return  release_year  \n",
       "0   1995-10-30     81.0    None  Toy Story  12.451801          1995  "
      ]
     },
     "execution_count": 40,
     "metadata": {},
     "output_type": "execute_result"
    }
   ],
   "source": [
    "# visualizar para confirmar la conversión\n",
    "movies.head(1)"
   ]
  },
  {
   "cell_type": "code",
   "execution_count": 41,
   "id": "d4533214",
   "metadata": {},
   "outputs": [],
   "source": [
    "# función para desanidar la columna cast(actores de la película), por tener demasiada información \n",
    "# solo se extrajeron tres(3) actores\n",
    "def convert_2(obj):\n",
    "    L = []\n",
    "    counter = 0\n",
    "    for i in literal_eval(obj):\n",
    "        if counter != 3:\n",
    "            L.append(i[\"name\"])\n",
    "            counter +=  1\n",
    "        else:\n",
    "            break\n",
    "    return L"
   ]
  },
  {
   "cell_type": "code",
   "execution_count": 42,
   "id": "78ce97f2",
   "metadata": {},
   "outputs": [],
   "source": [
    "# aplicar la función convert_2\n",
    "credits[\"cast\"] = credits[\"cast\"].apply(convert_2)"
   ]
  },
  {
   "cell_type": "code",
   "execution_count": 43,
   "id": "b5de886a",
   "metadata": {},
   "outputs": [
    {
     "data": {
      "text/plain": [
       "['Tom Hanks', 'Tim Allen', 'Don Rickles']"
      ]
     },
     "execution_count": 43,
     "metadata": {},
     "output_type": "execute_result"
    }
   ],
   "source": [
    "# verificamos la extracción\n",
    "credits[\"cast\"]\n",
    "credits[\"cast\"][0]"
   ]
  },
  {
   "cell_type": "code",
   "execution_count": 44,
   "id": "1cc928df",
   "metadata": {},
   "outputs": [],
   "source": [
    "# función para extraer el director de la película\n",
    "def fetch_director(obj):\n",
    "    L = []\n",
    "    for i in literal_eval(obj):\n",
    "        if i[\"job\"] == \"Director\":\n",
    "            L.append(i[\"name\"])\n",
    "            break\n",
    "\n",
    "    return L"
   ]
  },
  {
   "cell_type": "code",
   "execution_count": 45,
   "id": "460a29b7",
   "metadata": {},
   "outputs": [],
   "source": [
    "# aplicar función fetch_director\n",
    "credits[\"crew\"] = credits[\"crew\"].apply(fetch_director)"
   ]
  },
  {
   "cell_type": "code",
   "execution_count": 46,
   "id": "2fde2a7d",
   "metadata": {},
   "outputs": [
    {
     "data": {
      "text/plain": [
       "['John Lasseter']"
      ]
     },
     "execution_count": 46,
     "metadata": {},
     "output_type": "execute_result"
    }
   ],
   "source": [
    "# verificamos la extracción\n",
    "credits[\"crew\"]\n",
    "credits[\"crew\"][0]"
   ]
  },
  {
   "cell_type": "code",
   "execution_count": null,
   "id": "69d13058",
   "metadata": {},
   "outputs": [],
   "source": []
  },
  {
   "cell_type": "markdown",
   "id": "036df7d1",
   "metadata": {},
   "source": [
    "**Unir los dataframe**  \n",
    "Se unen los dataframe para trabajar mejor con un solo conjunto de datos.\n",
    "Esto presentó problemas por los tipos de datos de las columnas id del dataframe movies y del dataframe credits\n",
    "por lo siguiente:\n",
    "1 - El tipo de dato de la columna id de movies es object mientras que en credit es int64.\n",
    "2 - Al cambiar el tipo de dato de la columna id de movies, salta un error, algunas filas tienen caracteres\n",
    "ademas de números, lo que precisó buscar la manera de ver cuantas eran para determinar el procedimiento\n",
    "a seguir. Las filas con el problema eran tres(3), se visualizaron para comprobar que informacíon contenían\n",
    "y se procedió a elimarlas ya que la mayoría de los campos eran nulos."
   ]
  },
  {
   "cell_type": "code",
   "execution_count": 47,
   "id": "c01ce2d7",
   "metadata": {},
   "outputs": [
    {
     "name": "stdout",
     "output_type": "stream",
     "text": [
      "object\n",
      "int64\n"
     ]
    }
   ],
   "source": [
    "# verificar el tipo de datos de los id de ambos dataframe\n",
    "print(movies.id.dtype)\n",
    "print(credits.id.dtype)"
   ]
  },
  {
   "cell_type": "code",
   "execution_count": 48,
   "id": "05d35b64",
   "metadata": {},
   "outputs": [],
   "source": [
    "# cambio el tipo de dato de la columna id de movies\n",
    "movies[\"id\"] = movies[\"id\"].astype('int')"
   ]
  },
  {
   "cell_type": "code",
   "execution_count": 49,
   "id": "c5082844",
   "metadata": {},
   "outputs": [],
   "source": [
    "# unir los datasets\n",
    "df_movies = pd.merge(movies, credits, on=\"id\")"
   ]
  },
  {
   "cell_type": "code",
   "execution_count": 50,
   "id": "f790b29d",
   "metadata": {},
   "outputs": [
    {
     "data": {
      "text/html": [
       "<div>\n",
       "<style scoped>\n",
       "    .dataframe tbody tr th:only-of-type {\n",
       "        vertical-align: middle;\n",
       "    }\n",
       "\n",
       "    .dataframe tbody tr th {\n",
       "        vertical-align: top;\n",
       "    }\n",
       "\n",
       "    .dataframe thead th {\n",
       "        text-align: right;\n",
       "    }\n",
       "</style>\n",
       "<table border=\"1\" class=\"dataframe\">\n",
       "  <thead>\n",
       "    <tr style=\"text-align: right;\">\n",
       "      <th></th>\n",
       "      <th>belongs_to_collection</th>\n",
       "      <th>budget</th>\n",
       "      <th>genres</th>\n",
       "      <th>id</th>\n",
       "      <th>original_language</th>\n",
       "      <th>overview</th>\n",
       "      <th>production_companies</th>\n",
       "      <th>production_countries</th>\n",
       "      <th>revenue</th>\n",
       "      <th>release_date</th>\n",
       "      <th>runtime</th>\n",
       "      <th>tagline</th>\n",
       "      <th>title</th>\n",
       "      <th>return</th>\n",
       "      <th>release_year</th>\n",
       "      <th>cast</th>\n",
       "      <th>crew</th>\n",
       "    </tr>\n",
       "  </thead>\n",
       "  <tbody>\n",
       "    <tr>\n",
       "      <th>0</th>\n",
       "      <td>Toy Story Collection</td>\n",
       "      <td>30000000.0</td>\n",
       "      <td>[Animation, Comedy, Family]</td>\n",
       "      <td>862</td>\n",
       "      <td>en</td>\n",
       "      <td>Led by Woody, Andy's toys live happily in his ...</td>\n",
       "      <td>[Pixar Animation Studios]</td>\n",
       "      <td>[United States of America]</td>\n",
       "      <td>373554033.0</td>\n",
       "      <td>1995-10-30</td>\n",
       "      <td>81.0</td>\n",
       "      <td>None</td>\n",
       "      <td>Toy Story</td>\n",
       "      <td>12.451801</td>\n",
       "      <td>1995</td>\n",
       "      <td>[Tom Hanks, Tim Allen, Don Rickles]</td>\n",
       "      <td>[John Lasseter]</td>\n",
       "    </tr>\n",
       "    <tr>\n",
       "      <th>1</th>\n",
       "      <td>NaN</td>\n",
       "      <td>65000000.0</td>\n",
       "      <td>[Adventure, Fantasy, Family]</td>\n",
       "      <td>8844</td>\n",
       "      <td>en</td>\n",
       "      <td>When siblings Judy and Peter discover an encha...</td>\n",
       "      <td>[TriStar Pictures, Teitler Film, Interscope Co...</td>\n",
       "      <td>[United States of America]</td>\n",
       "      <td>262797249.0</td>\n",
       "      <td>1995-12-15</td>\n",
       "      <td>104.0</td>\n",
       "      <td>Roll the dice and unleash the excitement!</td>\n",
       "      <td>Jumanji</td>\n",
       "      <td>4.043035</td>\n",
       "      <td>1995</td>\n",
       "      <td>[Robin Williams, Jonathan Hyde, Kirsten Dunst]</td>\n",
       "      <td>[Joe Johnston]</td>\n",
       "    </tr>\n",
       "    <tr>\n",
       "      <th>2</th>\n",
       "      <td>Grumpy Old Men Collection</td>\n",
       "      <td>0.0</td>\n",
       "      <td>[Romance, Comedy]</td>\n",
       "      <td>15602</td>\n",
       "      <td>en</td>\n",
       "      <td>A family wedding reignites the ancient feud be...</td>\n",
       "      <td>[Warner Bros., Lancaster Gate]</td>\n",
       "      <td>[United States of America]</td>\n",
       "      <td>0.0</td>\n",
       "      <td>1995-12-22</td>\n",
       "      <td>101.0</td>\n",
       "      <td>Still Yelling. Still Fighting. Still Ready for...</td>\n",
       "      <td>Grumpier Old Men</td>\n",
       "      <td>NaN</td>\n",
       "      <td>1995</td>\n",
       "      <td>[Walter Matthau, Jack Lemmon, Ann-Margret]</td>\n",
       "      <td>[Howard Deutch]</td>\n",
       "    </tr>\n",
       "    <tr>\n",
       "      <th>3</th>\n",
       "      <td>NaN</td>\n",
       "      <td>16000000.0</td>\n",
       "      <td>[Comedy, Drama, Romance]</td>\n",
       "      <td>31357</td>\n",
       "      <td>en</td>\n",
       "      <td>Cheated on, mistreated and stepped on, the wom...</td>\n",
       "      <td>[Twentieth Century Fox Film Corporation]</td>\n",
       "      <td>[United States of America]</td>\n",
       "      <td>81452156.0</td>\n",
       "      <td>1995-12-22</td>\n",
       "      <td>127.0</td>\n",
       "      <td>Friends are the people who let you be yourself...</td>\n",
       "      <td>Waiting to Exhale</td>\n",
       "      <td>5.090760</td>\n",
       "      <td>1995</td>\n",
       "      <td>[Whitney Houston, Angela Bassett, Loretta Devine]</td>\n",
       "      <td>[Forest Whitaker]</td>\n",
       "    </tr>\n",
       "    <tr>\n",
       "      <th>4</th>\n",
       "      <td>Father of the Bride Collection</td>\n",
       "      <td>0.0</td>\n",
       "      <td>[Comedy]</td>\n",
       "      <td>11862</td>\n",
       "      <td>en</td>\n",
       "      <td>Just when George Banks has recovered from his ...</td>\n",
       "      <td>[Sandollar Productions, Touchstone Pictures]</td>\n",
       "      <td>[United States of America]</td>\n",
       "      <td>76578911.0</td>\n",
       "      <td>1995-02-10</td>\n",
       "      <td>106.0</td>\n",
       "      <td>Just When His World Is Back To Normal... He's ...</td>\n",
       "      <td>Father of the Bride Part II</td>\n",
       "      <td>NaN</td>\n",
       "      <td>1995</td>\n",
       "      <td>[Steve Martin, Diane Keaton, Martin Short]</td>\n",
       "      <td>[Charles Shyer]</td>\n",
       "    </tr>\n",
       "  </tbody>\n",
       "</table>\n",
       "</div>"
      ],
      "text/plain": [
       "            belongs_to_collection      budget                        genres  \\\n",
       "0            Toy Story Collection  30000000.0   [Animation, Comedy, Family]   \n",
       "1                             NaN  65000000.0  [Adventure, Fantasy, Family]   \n",
       "2       Grumpy Old Men Collection         0.0             [Romance, Comedy]   \n",
       "3                             NaN  16000000.0      [Comedy, Drama, Romance]   \n",
       "4  Father of the Bride Collection         0.0                      [Comedy]   \n",
       "\n",
       "      id original_language                                           overview  \\\n",
       "0    862                en  Led by Woody, Andy's toys live happily in his ...   \n",
       "1   8844                en  When siblings Judy and Peter discover an encha...   \n",
       "2  15602                en  A family wedding reignites the ancient feud be...   \n",
       "3  31357                en  Cheated on, mistreated and stepped on, the wom...   \n",
       "4  11862                en  Just when George Banks has recovered from his ...   \n",
       "\n",
       "                                production_companies  \\\n",
       "0                          [Pixar Animation Studios]   \n",
       "1  [TriStar Pictures, Teitler Film, Interscope Co...   \n",
       "2                     [Warner Bros., Lancaster Gate]   \n",
       "3           [Twentieth Century Fox Film Corporation]   \n",
       "4       [Sandollar Productions, Touchstone Pictures]   \n",
       "\n",
       "         production_countries      revenue release_date  runtime  \\\n",
       "0  [United States of America]  373554033.0   1995-10-30     81.0   \n",
       "1  [United States of America]  262797249.0   1995-12-15    104.0   \n",
       "2  [United States of America]          0.0   1995-12-22    101.0   \n",
       "3  [United States of America]   81452156.0   1995-12-22    127.0   \n",
       "4  [United States of America]   76578911.0   1995-02-10    106.0   \n",
       "\n",
       "                                             tagline  \\\n",
       "0                                               None   \n",
       "1          Roll the dice and unleash the excitement!   \n",
       "2  Still Yelling. Still Fighting. Still Ready for...   \n",
       "3  Friends are the people who let you be yourself...   \n",
       "4  Just When His World Is Back To Normal... He's ...   \n",
       "\n",
       "                         title     return  release_year  \\\n",
       "0                    Toy Story  12.451801          1995   \n",
       "1                      Jumanji   4.043035          1995   \n",
       "2             Grumpier Old Men        NaN          1995   \n",
       "3            Waiting to Exhale   5.090760          1995   \n",
       "4  Father of the Bride Part II        NaN          1995   \n",
       "\n",
       "                                                cast               crew  \n",
       "0                [Tom Hanks, Tim Allen, Don Rickles]    [John Lasseter]  \n",
       "1     [Robin Williams, Jonathan Hyde, Kirsten Dunst]     [Joe Johnston]  \n",
       "2         [Walter Matthau, Jack Lemmon, Ann-Margret]    [Howard Deutch]  \n",
       "3  [Whitney Houston, Angela Bassett, Loretta Devine]  [Forest Whitaker]  \n",
       "4         [Steve Martin, Diane Keaton, Martin Short]    [Charles Shyer]  "
      ]
     },
     "execution_count": 50,
     "metadata": {},
     "output_type": "execute_result"
    }
   ],
   "source": [
    "# visualizo registros para confirmar la unión\n",
    "df_movies.head()"
   ]
  },
  {
   "cell_type": "code",
   "execution_count": 51,
   "id": "415c16c1",
   "metadata": {},
   "outputs": [
    {
     "name": "stdout",
     "output_type": "stream",
     "text": [
      "Filas: 45352 - Columnas: 17\n"
     ]
    }
   ],
   "source": [
    "# visualizo la dimensión del dataframe resultante\n",
    "print(f\"Filas: {df_movies.shape[0]} - Columnas: {df_movies.shape[1]}\")"
   ]
  },
  {
   "cell_type": "code",
   "execution_count": 52,
   "id": "448ed1f8",
   "metadata": {},
   "outputs": [
    {
     "data": {
      "text/plain": [
       "Index(['belongs_to_collection', 'budget', 'genres', 'id', 'original_language',\n",
       "       'overview', 'production_companies', 'production_countries', 'revenue',\n",
       "       'release_date', 'runtime', 'tagline', 'title', 'return', 'release_year',\n",
       "       'cast', 'crew'],\n",
       "      dtype='object')"
      ]
     },
     "execution_count": 52,
     "metadata": {},
     "output_type": "execute_result"
    }
   ],
   "source": [
    "df_movies.columns"
   ]
  },
  {
   "cell_type": "markdown",
   "id": "06e640d7",
   "metadata": {},
   "source": [
    "**Reducción del dataset**  \n",
    "La reducción de los datos es necesaria por las características del hardware de pruebas(disco y memoria limitados) y del servicio donde se hará el deploy(render), tenemos que el conjunto de datos es bastante grande y consume mas memoria que la que permite el servicio de render, por tanto se toma la decisión de recortar los datos, el problema que se presenta para esto es que datos eliminar, ya que un análisis previo demuestra la cantidad de datos faltantes(nulos) en casi todas las columnas, dificultando la escogencia del criterio de eliminación.\n"
   ]
  },
  {
   "cell_type": "code",
   "execution_count": 53,
   "id": "58017114",
   "metadata": {},
   "outputs": [
    {
     "name": "stdout",
     "output_type": "stream",
     "text": [
      "<class 'pandas.core.frame.DataFrame'>\n",
      "RangeIndex: 45352 entries, 0 to 45351\n",
      "Data columns (total 17 columns):\n",
      " #   Column                 Non-Null Count  Dtype         \n",
      "---  ------                 --------------  -----         \n",
      " 0   belongs_to_collection  4486 non-null   object        \n",
      " 1   budget                 45352 non-null  float64       \n",
      " 2   genres                 45352 non-null  object        \n",
      " 3   id                     45352 non-null  int64         \n",
      " 4   original_language      45341 non-null  object        \n",
      " 5   overview               44411 non-null  object        \n",
      " 6   production_companies   45352 non-null  object        \n",
      " 7   production_countries   45352 non-null  object        \n",
      " 8   revenue                45352 non-null  float64       \n",
      " 9   release_date           45352 non-null  datetime64[ns]\n",
      " 10  runtime                45106 non-null  float64       \n",
      " 11  tagline                20389 non-null  object        \n",
      " 12  title                  45352 non-null  object        \n",
      " 13  return                 8880 non-null   float64       \n",
      " 14  release_year           45352 non-null  int32         \n",
      " 15  cast                   45352 non-null  object        \n",
      " 16  crew                   45352 non-null  object        \n",
      "dtypes: datetime64[ns](1), float64(4), int32(1), int64(1), object(10)\n",
      "memory usage: 5.7+ MB\n"
     ]
    }
   ],
   "source": [
    "df_movies.info()"
   ]
  },
  {
   "cell_type": "markdown",
   "id": "88563b73",
   "metadata": {},
   "source": [
    "Para redcir el dataset, escogí la columna budget, que no tiene nulos y previamente se le habían  \n",
    "imputado el valor cero(0) a los valores nulos, este criterio de eliminación permitió dejar una buena  \n",
    "cantidad de registros a la vez que se elimina el error de división entre cero(o) con la columna revenue"
   ]
  },
  {
   "cell_type": "code",
   "execution_count": 54,
   "id": "988c2e4b",
   "metadata": {},
   "outputs": [],
   "source": [
    "# creo un dataset a partir de las filas de la columna budget diferentes a 0\n",
    "df = df_movies[df_movies[\"budget\"] != 0]"
   ]
  },
  {
   "cell_type": "code",
   "execution_count": 55,
   "id": "948458c9",
   "metadata": {},
   "outputs": [
    {
     "data": {
      "text/html": [
       "<div>\n",
       "<style scoped>\n",
       "    .dataframe tbody tr th:only-of-type {\n",
       "        vertical-align: middle;\n",
       "    }\n",
       "\n",
       "    .dataframe tbody tr th {\n",
       "        vertical-align: top;\n",
       "    }\n",
       "\n",
       "    .dataframe thead th {\n",
       "        text-align: right;\n",
       "    }\n",
       "</style>\n",
       "<table border=\"1\" class=\"dataframe\">\n",
       "  <thead>\n",
       "    <tr style=\"text-align: right;\">\n",
       "      <th></th>\n",
       "      <th>belongs_to_collection</th>\n",
       "      <th>budget</th>\n",
       "      <th>genres</th>\n",
       "      <th>id</th>\n",
       "      <th>original_language</th>\n",
       "      <th>overview</th>\n",
       "      <th>production_companies</th>\n",
       "      <th>production_countries</th>\n",
       "      <th>revenue</th>\n",
       "      <th>release_date</th>\n",
       "      <th>runtime</th>\n",
       "      <th>tagline</th>\n",
       "      <th>title</th>\n",
       "      <th>return</th>\n",
       "      <th>release_year</th>\n",
       "      <th>cast</th>\n",
       "      <th>crew</th>\n",
       "    </tr>\n",
       "  </thead>\n",
       "  <tbody>\n",
       "    <tr>\n",
       "      <th>0</th>\n",
       "      <td>Toy Story Collection</td>\n",
       "      <td>30000000.0</td>\n",
       "      <td>[Animation, Comedy, Family]</td>\n",
       "      <td>862</td>\n",
       "      <td>en</td>\n",
       "      <td>Led by Woody, Andy's toys live happily in his ...</td>\n",
       "      <td>[Pixar Animation Studios]</td>\n",
       "      <td>[United States of America]</td>\n",
       "      <td>373554033.0</td>\n",
       "      <td>1995-10-30</td>\n",
       "      <td>81.0</td>\n",
       "      <td>None</td>\n",
       "      <td>Toy Story</td>\n",
       "      <td>12.451801</td>\n",
       "      <td>1995</td>\n",
       "      <td>[Tom Hanks, Tim Allen, Don Rickles]</td>\n",
       "      <td>[John Lasseter]</td>\n",
       "    </tr>\n",
       "  </tbody>\n",
       "</table>\n",
       "</div>"
      ],
      "text/plain": [
       "  belongs_to_collection      budget                       genres   id  \\\n",
       "0  Toy Story Collection  30000000.0  [Animation, Comedy, Family]  862   \n",
       "\n",
       "  original_language                                           overview  \\\n",
       "0                en  Led by Woody, Andy's toys live happily in his ...   \n",
       "\n",
       "        production_companies        production_countries      revenue  \\\n",
       "0  [Pixar Animation Studios]  [United States of America]  373554033.0   \n",
       "\n",
       "  release_date  runtime tagline      title     return  release_year  \\\n",
       "0   1995-10-30     81.0    None  Toy Story  12.451801          1995   \n",
       "\n",
       "                                  cast             crew  \n",
       "0  [Tom Hanks, Tim Allen, Don Rickles]  [John Lasseter]  "
      ]
     },
     "execution_count": 55,
     "metadata": {},
     "output_type": "execute_result"
    }
   ],
   "source": [
    "df.head(1)"
   ]
  },
  {
   "cell_type": "code",
   "execution_count": 56,
   "id": "c8b6e391",
   "metadata": {},
   "outputs": [
    {
     "name": "stdout",
     "output_type": "stream",
     "text": [
      "Filas: 8880 - Columnas: 17\n"
     ]
    }
   ],
   "source": [
    "# visualizo la dimensión del dataframe resultante\n",
    "print(f\"Filas: {df.shape[0]} - Columnas: {df.shape[1]}\")"
   ]
  },
  {
   "cell_type": "code",
   "execution_count": 57,
   "id": "1f9a33d9",
   "metadata": {},
   "outputs": [],
   "source": [
    "# elimino el dataset anterior para no saturar la memoria\n",
    "del df_movies"
   ]
  },
  {
   "cell_type": "code",
   "execution_count": null,
   "id": "e39aaee1",
   "metadata": {},
   "outputs": [],
   "source": [
    "\n"
   ]
  },
  {
   "cell_type": "markdown",
   "id": "5afaa1d3",
   "metadata": {},
   "source": [
    "**Funciones de retorno de datos**  \n",
    "En esta sección se construyeron las funciones requeridas para el proyecto"
   ]
  },
  {
   "cell_type": "code",
   "execution_count": null,
   "id": "5e8d1a03",
   "metadata": {},
   "outputs": [],
   "source": [
    "def peliculas_idioma( Idioma: str ):\n",
    "    ''' Se ingresa un idioma (como están escritos en el dataset, no hay que traducirlos!). \n",
    "        Debe devolver la cantidad de películas producidas en ese idioma.\n",
    "        Ejemplo de retorno: X cantidad de películas fueron estrenadas en idioma'''\n",
    "    res = df[\"original_language\"] == Idioma\n",
    "    return {\"idioma\": Idioma, \"cantidad\": res.sum()}"
   ]
  },
  {
   "cell_type": "code",
   "execution_count": null,
   "id": "9b25a5a5",
   "metadata": {},
   "outputs": [],
   "source": [
    "language = input(\"Ingrese el idioma: \")\n",
    "peliculas_idioma(language)"
   ]
  },
  {
   "cell_type": "code",
   "execution_count": null,
   "id": "f947cb40",
   "metadata": {},
   "outputs": [],
   "source": []
  },
  {
   "cell_type": "code",
   "execution_count": null,
   "id": "7d5a280e",
   "metadata": {},
   "outputs": [],
   "source": [
    "def peliculas_duracion( Pelicula: str ):\n",
    "    '''Se ingresa una pelicula. Debe devolver la duracion y el año.\n",
    "       Ejemplo de retorno: X . Duración: x. Año: xx '''\n",
    "    res = df[df[\"title\"] == Pelicula]\n",
    "    return {\"pelicula\": Pelicula, \"duracion\": res.runtime.item(), \"anio\": res.release_year.item()}"
   ]
  },
  {
   "cell_type": "code",
   "execution_count": null,
   "id": "64d5e86e",
   "metadata": {},
   "outputs": [],
   "source": [
    "mov = input(\"Ingresa el nombre de una película: \")\n",
    "peliculas_duracion(mov)"
   ]
  },
  {
   "cell_type": "code",
   "execution_count": null,
   "id": "3e8c89ac",
   "metadata": {},
   "outputs": [],
   "source": []
  },
  {
   "cell_type": "code",
   "execution_count": null,
   "id": "f6feb5ab",
   "metadata": {},
   "outputs": [],
   "source": [
    "def franquicia( Franquicia: str ):\n",
    "    '''Se ingresa la franquicia, retornando la cantidad de peliculas, ganancia\n",
    "    total y promedio\n",
    "    Ejemplo de retorno: La franquicia X posee X peliculas, una ganancia total de x y una ganancia promedio de xx '''\n",
    "    f = df[df[\"belongs_to_collection\"] == Franquicia]\n",
    "    cant_pel = len(f)\n",
    "    ganancia_total = f.revenue.sum()\n",
    "    promed = ganancia_total / 3\n",
    "    return {'franquicia':Franquicia, 'cantidad':cant_pel, 'ganancia_total':ganancia_total, 'ganancia_promedio':round(promed, 2)}"
   ]
  },
  {
   "cell_type": "code",
   "execution_count": null,
   "id": "bcca0a0f",
   "metadata": {},
   "outputs": [],
   "source": [
    "name_franq = input(\"Ingresa una franquicia: \")\n",
    "franquicia(name_franq)"
   ]
  },
  {
   "cell_type": "code",
   "execution_count": null,
   "id": "df8a8222",
   "metadata": {},
   "outputs": [],
   "source": []
  },
  {
   "cell_type": "code",
   "execution_count": null,
   "id": "4c706303",
   "metadata": {},
   "outputs": [],
   "source": [
    "def peliculas_pais( Pais: str ):\n",
    "    '''Se ingresa un país (como están escritos en el dataset, no hay que traducirlos!), retornando la \n",
    "    cantidad de peliculas producidas en el mismo.\n",
    "    Ejemplo de retorno: Se produjeron X películas en el país X '''\n",
    "    country_movies = Pais\n",
    "    cont = 0\n",
    "    for country in df[\"production_countries\"]:\n",
    "        for pais in country:\n",
    "            if pais == country_movies:\n",
    "                cont += 1\n",
    "    \n",
    "    datos = dict()\n",
    "    \n",
    "    if cont > 0:\n",
    "        datos = {\n",
    "            \"pais\": Pais,\n",
    "            \"cantidad\": cont\n",
    "        }\n",
    "        \n",
    "    return datos"
   ]
  },
  {
   "cell_type": "code",
   "execution_count": null,
   "id": "7605796d",
   "metadata": {},
   "outputs": [],
   "source": [
    "movie_by_country = input(\"Ingresa un país: \")\n",
    "peliculas_pais(movie_by_country)"
   ]
  },
  {
   "cell_type": "code",
   "execution_count": null,
   "id": "6eb0c26a",
   "metadata": {},
   "outputs": [],
   "source": []
  },
  {
   "cell_type": "code",
   "execution_count": 58,
   "id": "7848a82c",
   "metadata": {},
   "outputs": [],
   "source": [
    "def productoras_exitosas( Productora: str ):\n",
    "    '''Se ingresa la productora, entregandote el revenue total y la cantidad\n",
    "    de peliculas que realizó.\n",
    "    Ejemplo de retorno: La productora X ha tenido un revenue de x '''\n",
    "    producer = df[df.production_companies.apply(pd.Series)[0] == Productora]\n",
    "    return {'productora':Productora, 'revenue_total': producer.revenue.sum(),'cantidad':producer.title.count()}"
   ]
  },
  {
   "cell_type": "code",
   "execution_count": 59,
   "id": "ed263214",
   "metadata": {},
   "outputs": [
    {
     "name": "stdout",
     "output_type": "stream",
     "text": [
      "Ingrese la productora: Universal Pictures\n"
     ]
    },
    {
     "data": {
      "text/plain": [
       "{'productora': 'Universal Pictures',\n",
       " 'revenue_total': 43941882640.0,\n",
       " 'cantidad': 373}"
      ]
     },
     "execution_count": 59,
     "metadata": {},
     "output_type": "execute_result"
    }
   ],
   "source": [
    "producer = input(\"Ingrese la productora: \")\n",
    "productoras_exitosas(producer)"
   ]
  },
  {
   "cell_type": "code",
   "execution_count": null,
   "id": "a52396bd",
   "metadata": {},
   "outputs": [],
   "source": []
  },
  {
   "cell_type": "code",
   "execution_count": null,
   "id": "623ec867",
   "metadata": {},
   "outputs": [],
   "source": [
    "def get_director( nombre_director: str ):\n",
    "    '''Se ingresa el nombre de un director que se encuentre dentro de un dataset debiendo devolver el éxito del\n",
    "    mismo medido a través del retorno. Además, deberá devolver el nombre de cada película\n",
    "    con la fecha de lanzamiento, retorno individual, costo y ganancia de la misma, en formato lista.'''\n",
    "    # return {'director':nombre_director, 'retorno_total_director':respuesta, \n",
    "    # 'peliculas':respuesta, 'anio':respuesta,, 'retorno_pelicula':respuesta, \n",
    "    # 'budget_pelicula':respuesta, 'revenue_pelicula':respuesta}\n",
    "    # director = df_movies[df_movies.crew.apply(pd.Series)[0] == nombre_director]\n",
    "    director = df[df.crew.apply(pd.Series)[0] == nombre_director]\n",
    "    movies = director['title'].tolist()\n",
    "    rel_years = director.release_year.tolist()\n",
    "    ind_returns = director[\"return\"].tolist()\n",
    "    costs = director.budget.tolist()\n",
    "    revs = director.revenue.tolist()\n",
    "    \n",
    "    movie_data = []\n",
    "    for movie, rel_year, ind_return, cost, rev in zip(movies, rel_years, ind_returns, costs, revs):\n",
    "        movie_data.append([movie, rel_year, ind_return, cost, rev])\n",
    "    \n",
    "    movies_director_dicc = {}\n",
    "    \n",
    "    for lista in movie_data:\n",
    "        # print(lista)\n",
    "        print({'peliculas':lista[0], 'anio':lista[1], 'retorno_pelicula':lista[2], \n",
    "        'budget_pelicula':lista[3], 'revenue_pelicula':lista[4]})\n",
    "        \n",
    "    # total_revs = sum(director.revenue)\n",
    "    # total_cost = sum(director.budget)\n",
    "    \n",
    "    \n",
    "    total_ret_director = sum(director.revenue) / sum(director.budget)\n",
    "    return {\"retorno_total_director\": total_ret_director}\n",
    "    "
   ]
  },
  {
   "cell_type": "code",
   "execution_count": null,
   "id": "5a126ec5",
   "metadata": {},
   "outputs": [],
   "source": [
    "director_movies = input(\"Ingresa un director: \")\n",
    "get_director(director_movies)"
   ]
  },
  {
   "cell_type": "markdown",
   "id": "7fd7fdaf",
   "metadata": {},
   "source": [
    "**Análisis exploratorio de los datos: (Exploratory Data Analysis-EDA)**  "
   ]
  },
  {
   "cell_type": "code",
   "execution_count": 61,
   "id": "7127c03b",
   "metadata": {},
   "outputs": [
    {
     "name": "stdout",
     "output_type": "stream",
     "text": [
      "<class 'pandas.core.frame.DataFrame'>\n",
      "Index: 8880 entries, 0 to 45309\n",
      "Data columns (total 17 columns):\n",
      " #   Column                 Non-Null Count  Dtype         \n",
      "---  ------                 --------------  -----         \n",
      " 0   belongs_to_collection  1584 non-null   object        \n",
      " 1   budget                 8880 non-null   float64       \n",
      " 2   genres                 8880 non-null   object        \n",
      " 3   id                     8880 non-null   int64         \n",
      " 4   original_language      8880 non-null   object        \n",
      " 5   overview               8833 non-null   object        \n",
      " 6   production_companies   8880 non-null   object        \n",
      " 7   production_countries   8880 non-null   object        \n",
      " 8   revenue                8880 non-null   float64       \n",
      " 9   release_date           8880 non-null   datetime64[ns]\n",
      " 10  runtime                8870 non-null   float64       \n",
      " 11  tagline                6678 non-null   object        \n",
      " 12  title                  8880 non-null   object        \n",
      " 13  return                 8880 non-null   float64       \n",
      " 14  release_year           8880 non-null   int32         \n",
      " 15  cast                   8880 non-null   object        \n",
      " 16  crew                   8880 non-null   object        \n",
      "dtypes: datetime64[ns](1), float64(4), int32(1), int64(1), object(10)\n",
      "memory usage: 1.2+ MB\n"
     ]
    }
   ],
   "source": [
    "# visualización de la info del dataset\n",
    "df.info()"
   ]
  },
  {
   "cell_type": "code",
   "execution_count": 64,
   "id": "e0c8fd49",
   "metadata": {},
   "outputs": [
    {
     "data": {
      "text/html": [
       "<div>\n",
       "<style scoped>\n",
       "    .dataframe tbody tr th:only-of-type {\n",
       "        vertical-align: middle;\n",
       "    }\n",
       "\n",
       "    .dataframe tbody tr th {\n",
       "        vertical-align: top;\n",
       "    }\n",
       "\n",
       "    .dataframe thead th {\n",
       "        text-align: right;\n",
       "    }\n",
       "</style>\n",
       "<table border=\"1\" class=\"dataframe\">\n",
       "  <thead>\n",
       "    <tr style=\"text-align: right;\">\n",
       "      <th></th>\n",
       "      <th>count</th>\n",
       "      <th>unique</th>\n",
       "      <th>top</th>\n",
       "      <th>freq</th>\n",
       "      <th>mean</th>\n",
       "      <th>min</th>\n",
       "      <th>25%</th>\n",
       "      <th>50%</th>\n",
       "      <th>75%</th>\n",
       "      <th>max</th>\n",
       "      <th>std</th>\n",
       "    </tr>\n",
       "  </thead>\n",
       "  <tbody>\n",
       "    <tr>\n",
       "      <th>belongs_to_collection</th>\n",
       "      <td>1584</td>\n",
       "      <td>827</td>\n",
       "      <td>James Bond Collection</td>\n",
       "      <td>26</td>\n",
       "      <td>NaN</td>\n",
       "      <td>NaN</td>\n",
       "      <td>NaN</td>\n",
       "      <td>NaN</td>\n",
       "      <td>NaN</td>\n",
       "      <td>NaN</td>\n",
       "      <td>NaN</td>\n",
       "    </tr>\n",
       "    <tr>\n",
       "      <th>budget</th>\n",
       "      <td>8880.0</td>\n",
       "      <td>NaN</td>\n",
       "      <td>NaN</td>\n",
       "      <td>NaN</td>\n",
       "      <td>21618812.395608</td>\n",
       "      <td>1.0</td>\n",
       "      <td>2000000.0</td>\n",
       "      <td>8000000.0</td>\n",
       "      <td>25000000.0</td>\n",
       "      <td>380000000.0</td>\n",
       "      <td>34324279.215273</td>\n",
       "    </tr>\n",
       "    <tr>\n",
       "      <th>genres</th>\n",
       "      <td>8880</td>\n",
       "      <td>1749</td>\n",
       "      <td>[Drama]</td>\n",
       "      <td>669</td>\n",
       "      <td>NaN</td>\n",
       "      <td>NaN</td>\n",
       "      <td>NaN</td>\n",
       "      <td>NaN</td>\n",
       "      <td>NaN</td>\n",
       "      <td>NaN</td>\n",
       "      <td>NaN</td>\n",
       "    </tr>\n",
       "    <tr>\n",
       "      <th>id</th>\n",
       "      <td>8880.0</td>\n",
       "      <td>NaN</td>\n",
       "      <td>NaN</td>\n",
       "      <td>NaN</td>\n",
       "      <td>75399.549662</td>\n",
       "      <td>5.0</td>\n",
       "      <td>10194.5</td>\n",
       "      <td>26673.0</td>\n",
       "      <td>83694.75</td>\n",
       "      <td>468707.0</td>\n",
       "      <td>104771.616332</td>\n",
       "    </tr>\n",
       "    <tr>\n",
       "      <th>original_language</th>\n",
       "      <td>8880</td>\n",
       "      <td>54</td>\n",
       "      <td>en</td>\n",
       "      <td>7426</td>\n",
       "      <td>NaN</td>\n",
       "      <td>NaN</td>\n",
       "      <td>NaN</td>\n",
       "      <td>NaN</td>\n",
       "      <td>NaN</td>\n",
       "      <td>NaN</td>\n",
       "      <td>NaN</td>\n",
       "    </tr>\n",
       "    <tr>\n",
       "      <th>overview</th>\n",
       "      <td>8833</td>\n",
       "      <td>8822</td>\n",
       "      <td>No overview found.</td>\n",
       "      <td>7</td>\n",
       "      <td>NaN</td>\n",
       "      <td>NaN</td>\n",
       "      <td>NaN</td>\n",
       "      <td>NaN</td>\n",
       "      <td>NaN</td>\n",
       "      <td>NaN</td>\n",
       "      <td>NaN</td>\n",
       "    </tr>\n",
       "    <tr>\n",
       "      <th>production_companies</th>\n",
       "      <td>8880</td>\n",
       "      <td>6637</td>\n",
       "      <td>[]</td>\n",
       "      <td>728</td>\n",
       "      <td>NaN</td>\n",
       "      <td>NaN</td>\n",
       "      <td>NaN</td>\n",
       "      <td>NaN</td>\n",
       "      <td>NaN</td>\n",
       "      <td>NaN</td>\n",
       "      <td>NaN</td>\n",
       "    </tr>\n",
       "    <tr>\n",
       "      <th>production_countries</th>\n",
       "      <td>8880</td>\n",
       "      <td>846</td>\n",
       "      <td>[United States of America]</td>\n",
       "      <td>4860</td>\n",
       "      <td>NaN</td>\n",
       "      <td>NaN</td>\n",
       "      <td>NaN</td>\n",
       "      <td>NaN</td>\n",
       "      <td>NaN</td>\n",
       "      <td>NaN</td>\n",
       "      <td>NaN</td>\n",
       "    </tr>\n",
       "    <tr>\n",
       "      <th>revenue</th>\n",
       "      <td>8880.0</td>\n",
       "      <td>NaN</td>\n",
       "      <td>NaN</td>\n",
       "      <td>NaN</td>\n",
       "      <td>54717248.988964</td>\n",
       "      <td>0.0</td>\n",
       "      <td>0.0</td>\n",
       "      <td>3235784.0</td>\n",
       "      <td>44820634.0</td>\n",
       "      <td>2787965087.0</td>\n",
       "      <td>136653293.007006</td>\n",
       "    </tr>\n",
       "    <tr>\n",
       "      <th>release_date</th>\n",
       "      <td>8880</td>\n",
       "      <td>NaN</td>\n",
       "      <td>NaN</td>\n",
       "      <td>NaN</td>\n",
       "      <td>2000-03-05 15:40:12.972972928</td>\n",
       "      <td>1902-09-01 00:00:00</td>\n",
       "      <td>1994-11-22 18:00:00</td>\n",
       "      <td>2005-12-20 00:00:00</td>\n",
       "      <td>2011-09-17 06:00:00</td>\n",
       "      <td>2018-12-31 00:00:00</td>\n",
       "      <td>NaN</td>\n",
       "    </tr>\n",
       "    <tr>\n",
       "      <th>runtime</th>\n",
       "      <td>8870.0</td>\n",
       "      <td>NaN</td>\n",
       "      <td>NaN</td>\n",
       "      <td>NaN</td>\n",
       "      <td>105.397971</td>\n",
       "      <td>0.0</td>\n",
       "      <td>91.0</td>\n",
       "      <td>101.0</td>\n",
       "      <td>116.0</td>\n",
       "      <td>705.0</td>\n",
       "      <td>28.298226</td>\n",
       "    </tr>\n",
       "    <tr>\n",
       "      <th>tagline</th>\n",
       "      <td>6678</td>\n",
       "      <td>6652</td>\n",
       "      <td>Based on a true story.</td>\n",
       "      <td>4</td>\n",
       "      <td>NaN</td>\n",
       "      <td>NaN</td>\n",
       "      <td>NaN</td>\n",
       "      <td>NaN</td>\n",
       "      <td>NaN</td>\n",
       "      <td>NaN</td>\n",
       "      <td>NaN</td>\n",
       "    </tr>\n",
       "    <tr>\n",
       "      <th>title</th>\n",
       "      <td>8880</td>\n",
       "      <td>8648</td>\n",
       "      <td>Alice in Wonderland</td>\n",
       "      <td>4</td>\n",
       "      <td>NaN</td>\n",
       "      <td>NaN</td>\n",
       "      <td>NaN</td>\n",
       "      <td>NaN</td>\n",
       "      <td>NaN</td>\n",
       "      <td>NaN</td>\n",
       "      <td>NaN</td>\n",
       "    </tr>\n",
       "    <tr>\n",
       "      <th>return</th>\n",
       "      <td>8880.0</td>\n",
       "      <td>NaN</td>\n",
       "      <td>NaN</td>\n",
       "      <td>NaN</td>\n",
       "      <td>3372.757792</td>\n",
       "      <td>0.0</td>\n",
       "      <td>0.0</td>\n",
       "      <td>0.491165</td>\n",
       "      <td>2.607669</td>\n",
       "      <td>12396383.0</td>\n",
       "      <td>168825.560883</td>\n",
       "    </tr>\n",
       "    <tr>\n",
       "      <th>release_year</th>\n",
       "      <td>8880.0</td>\n",
       "      <td>NaN</td>\n",
       "      <td>NaN</td>\n",
       "      <td>NaN</td>\n",
       "      <td>1999.65777</td>\n",
       "      <td>1902.0</td>\n",
       "      <td>1994.0</td>\n",
       "      <td>2005.0</td>\n",
       "      <td>2011.0</td>\n",
       "      <td>2018.0</td>\n",
       "      <td>17.255502</td>\n",
       "    </tr>\n",
       "    <tr>\n",
       "      <th>cast</th>\n",
       "      <td>8880</td>\n",
       "      <td>8713</td>\n",
       "      <td>[]</td>\n",
       "      <td>72</td>\n",
       "      <td>NaN</td>\n",
       "      <td>NaN</td>\n",
       "      <td>NaN</td>\n",
       "      <td>NaN</td>\n",
       "      <td>NaN</td>\n",
       "      <td>NaN</td>\n",
       "      <td>NaN</td>\n",
       "    </tr>\n",
       "    <tr>\n",
       "      <th>crew</th>\n",
       "      <td>8880</td>\n",
       "      <td>4425</td>\n",
       "      <td>[]</td>\n",
       "      <td>36</td>\n",
       "      <td>NaN</td>\n",
       "      <td>NaN</td>\n",
       "      <td>NaN</td>\n",
       "      <td>NaN</td>\n",
       "      <td>NaN</td>\n",
       "      <td>NaN</td>\n",
       "      <td>NaN</td>\n",
       "    </tr>\n",
       "  </tbody>\n",
       "</table>\n",
       "</div>"
      ],
      "text/plain": [
       "                        count unique                         top  freq  \\\n",
       "belongs_to_collection    1584    827       James Bond Collection    26   \n",
       "budget                 8880.0    NaN                         NaN   NaN   \n",
       "genres                   8880   1749                     [Drama]   669   \n",
       "id                     8880.0    NaN                         NaN   NaN   \n",
       "original_language        8880     54                          en  7426   \n",
       "overview                 8833   8822          No overview found.     7   \n",
       "production_companies     8880   6637                          []   728   \n",
       "production_countries     8880    846  [United States of America]  4860   \n",
       "revenue                8880.0    NaN                         NaN   NaN   \n",
       "release_date             8880    NaN                         NaN   NaN   \n",
       "runtime                8870.0    NaN                         NaN   NaN   \n",
       "tagline                  6678   6652      Based on a true story.     4   \n",
       "title                    8880   8648         Alice in Wonderland     4   \n",
       "return                 8880.0    NaN                         NaN   NaN   \n",
       "release_year           8880.0    NaN                         NaN   NaN   \n",
       "cast                     8880   8713                          []    72   \n",
       "crew                     8880   4425                          []    36   \n",
       "\n",
       "                                                mean                  min  \\\n",
       "belongs_to_collection                            NaN                  NaN   \n",
       "budget                               21618812.395608                  1.0   \n",
       "genres                                           NaN                  NaN   \n",
       "id                                      75399.549662                  5.0   \n",
       "original_language                                NaN                  NaN   \n",
       "overview                                         NaN                  NaN   \n",
       "production_companies                             NaN                  NaN   \n",
       "production_countries                             NaN                  NaN   \n",
       "revenue                              54717248.988964                  0.0   \n",
       "release_date           2000-03-05 15:40:12.972972928  1902-09-01 00:00:00   \n",
       "runtime                                   105.397971                  0.0   \n",
       "tagline                                          NaN                  NaN   \n",
       "title                                            NaN                  NaN   \n",
       "return                                   3372.757792                  0.0   \n",
       "release_year                              1999.65777               1902.0   \n",
       "cast                                             NaN                  NaN   \n",
       "crew                                             NaN                  NaN   \n",
       "\n",
       "                                       25%                  50%  \\\n",
       "belongs_to_collection                  NaN                  NaN   \n",
       "budget                           2000000.0            8000000.0   \n",
       "genres                                 NaN                  NaN   \n",
       "id                                 10194.5              26673.0   \n",
       "original_language                      NaN                  NaN   \n",
       "overview                               NaN                  NaN   \n",
       "production_companies                   NaN                  NaN   \n",
       "production_countries                   NaN                  NaN   \n",
       "revenue                                0.0            3235784.0   \n",
       "release_date           1994-11-22 18:00:00  2005-12-20 00:00:00   \n",
       "runtime                               91.0                101.0   \n",
       "tagline                                NaN                  NaN   \n",
       "title                                  NaN                  NaN   \n",
       "return                                 0.0             0.491165   \n",
       "release_year                        1994.0               2005.0   \n",
       "cast                                   NaN                  NaN   \n",
       "crew                                   NaN                  NaN   \n",
       "\n",
       "                                       75%                  max  \\\n",
       "belongs_to_collection                  NaN                  NaN   \n",
       "budget                          25000000.0          380000000.0   \n",
       "genres                                 NaN                  NaN   \n",
       "id                                83694.75             468707.0   \n",
       "original_language                      NaN                  NaN   \n",
       "overview                               NaN                  NaN   \n",
       "production_companies                   NaN                  NaN   \n",
       "production_countries                   NaN                  NaN   \n",
       "revenue                         44820634.0         2787965087.0   \n",
       "release_date           2011-09-17 06:00:00  2018-12-31 00:00:00   \n",
       "runtime                              116.0                705.0   \n",
       "tagline                                NaN                  NaN   \n",
       "title                                  NaN                  NaN   \n",
       "return                            2.607669           12396383.0   \n",
       "release_year                        2011.0               2018.0   \n",
       "cast                                   NaN                  NaN   \n",
       "crew                                   NaN                  NaN   \n",
       "\n",
       "                                    std  \n",
       "belongs_to_collection               NaN  \n",
       "budget                  34324279.215273  \n",
       "genres                              NaN  \n",
       "id                        104771.616332  \n",
       "original_language                   NaN  \n",
       "overview                            NaN  \n",
       "production_companies                NaN  \n",
       "production_countries                NaN  \n",
       "revenue                136653293.007006  \n",
       "release_date                        NaN  \n",
       "runtime                       28.298226  \n",
       "tagline                             NaN  \n",
       "title                               NaN  \n",
       "return                    168825.560883  \n",
       "release_year                  17.255502  \n",
       "cast                                NaN  \n",
       "crew                                NaN  "
      ]
     },
     "execution_count": 64,
     "metadata": {},
     "output_type": "execute_result"
    }
   ],
   "source": [
    "# estadísticas básicas\n",
    "df.describe(include='all').T"
   ]
  },
  {
   "cell_type": "markdown",
   "id": "3713c0b8",
   "metadata": {},
   "source": [
    "**Aunque se incluyen todas las columnas, normalmente se visualizan las columnas nuḿericas para determinar  \n",
    "una primera impresión de los datos y posibles anomalías, en este caso tenemos que:**    \n",
    "\n",
    "* **costo(budget)**  \n",
    "* **ganancia()revenue**    \n",
    "Son valores que pueden ser muy altos lo que implica que un valor alejado del rango de otras películas no necesariamente es un outlier  \n",
    "\n",
    "\n",
    "* **release_year**  \n",
    "No presenta anomalías, ya que el cine se inventó a finales del siglo 19 y la fecha mínima es 1902  \n",
    "\n",
    "\n",
    "* **runtime**  \n",
    "No se observan anomalías  \n",
    "\n",
    "\n",
    "* **return**  \n",
    "Valor que puede ser muy alto o muy bajo, depende del costo y la ganancia"
   ]
  },
  {
   "cell_type": "code",
   "execution_count": 70,
   "id": "1e58ca4e",
   "metadata": {},
   "outputs": [
    {
     "data": {
      "text/plain": [
       "0.7400640856142785"
      ]
     },
     "execution_count": 70,
     "metadata": {},
     "output_type": "execute_result"
    }
   ],
   "source": [
    "# correlación entre las columnas budget y revenue\n",
    "df['budget'].corr(df['revenue'])"
   ]
  },
  {
   "cell_type": "markdown",
   "id": "b7d58e56",
   "metadata": {},
   "source": [
    "**En el paso anterior calculamos la correlación entre las columnas budget y revenue, aunque resulte obvio que  \n",
    "las columnas esten correlacionadas**"
   ]
  },
  {
   "cell_type": "code",
   "execution_count": 74,
   "id": "5684c948",
   "metadata": {},
   "outputs": [
    {
     "data": {
      "text/plain": [
       "<Axes: >"
      ]
     },
     "execution_count": 74,
     "metadata": {},
     "output_type": "execute_result"
    },
    {
     "data": {
      "image/png": "[encoded data removed]",
      "text/plain": [
       "<Figure size 640x480 with 1 Axes>"
      ]
     },
     "metadata": {},
     "output_type": "display_data"
    }
   ],
   "source": [
    "# posible outliers\n",
    "df[['budget', 'revenue']].plot(kind='box')"
   ]
  },
  {
   "cell_type": "markdown",
   "id": "0000cade",
   "metadata": {},
   "source": [
    "**En el gráfico anterior se observa posibles outliers en la columna revenue. Estos valores no son  \n",
    "concluyentes ya que películas con poco costo, pueden generar altaas ganancias**"
   ]
  },
  {
   "cell_type": "code",
   "execution_count": 76,
   "id": "4c0be7f0",
   "metadata": {},
   "outputs": [
    {
     "data": {
      "text/plain": [
       "<Axes: >"
      ]
     },
     "execution_count": 76,
     "metadata": {},
     "output_type": "execute_result"
    },
    {
     "data": {
      "image/png": "[encoded data removed]",
      "text/plain": [
       "<Figure size 640x480 with 1 Axes>"
      ]
     },
     "metadata": {},
     "output_type": "display_data"
    }
   ],
   "source": [
    "df[['runtime']].plot(kind='box')"
   ]
  },
  {
   "cell_type": "code",
   "execution_count": 77,
   "id": "dbc5f632",
   "metadata": {},
   "outputs": [
    {
     "data": {
      "text/plain": [
       "<Axes: >"
      ]
     },
     "execution_count": 77,
     "metadata": {},
     "output_type": "execute_result"
    },
    {
     "data": {
      "image/png": "[encoded data removed]",
      "text/plain": [
       "<Figure size 640x480 with 1 Axes>"
      ]
     },
     "metadata": {},
     "output_type": "display_data"
    }
   ],
   "source": [
    "df[['release_year']].plot(kind='box')"
   ]
  },
  {
   "cell_type": "code",
   "execution_count": 69,
   "id": "bed03e6f",
   "metadata": {},
   "outputs": [
    {
     "data": {
      "image/png": "[encoded data removed]",
      "text/plain": [
       "<Figure size 640x480 with 1 Axes>"
      ]
     },
     "metadata": {},
     "output_type": "display_data"
    }
   ],
   "source": [
    "sns.boxplot(x='revenue',y='budget', data=df)\n",
    "plt.show()"
   ]
  },
  {
   "cell_type": "code",
   "execution_count": null,
   "id": "771dfa86",
   "metadata": {},
   "outputs": [],
   "source": []
  },
  {
   "cell_type": "markdown",
   "id": "5db776fc",
   "metadata": {},
   "source": [
    "**Arreglo de las columnas escogidas para el modelo**  \n",
    "En este apartado se procede al arreglo de las columnas escogidas para el modelo de recomendación,  \n",
    "estas columnas son:  \n",
    "* **overview:** Descripción de la película\n",
    "* **genres:** Género de la peĺícula\n",
    "* **cast:** Actores principales\n",
    "* **crew:** Director de la película"
   ]
  },
  {
   "cell_type": "code",
   "execution_count": null,
   "id": "c69ca09a",
   "metadata": {},
   "outputs": [],
   "source": []
  },
  {
   "cell_type": "code",
   "execution_count": 78,
   "id": "aeaf6567",
   "metadata": {},
   "outputs": [],
   "source": [
    "# dividir las palabras de overview\n",
    "df[\"overview\"] = df[\"overview\"].apply(lambda x: str(x).split())\n",
    "\n",
    "# quitamos los espacios entre palabras Ejemplo: Science Fiction = ScienceFiction\n",
    "df[\"genres\"] = df[\"genres\"].apply(lambda x: [i.replace(\" \", \"\") for i in x])\n",
    "df[\"cast\"] = df[\"cast\"].apply(lambda x: [i.replace(\" \", \"\") for i in x])\n",
    "df[\"crew\"] = df[\"crew\"].apply(lambda x: [i.replace(\" \", \"\") for i in x])"
   ]
  },
  {
   "cell_type": "code",
   "execution_count": 83,
   "id": "b5c94d2c",
   "metadata": {},
   "outputs": [],
   "source": [
    "# creo la columna tags con el contenido de las columnas overview, genres, cast y crew \n",
    "df[\"tags\"] = df[\"overview\"] + df[\"genres\"] + df[\"cast\"] + df[\"crew\"]"
   ]
  },
  {
   "cell_type": "code",
   "execution_count": 84,
   "id": "c72f400d",
   "metadata": {},
   "outputs": [
    {
     "data": {
      "text/plain": [
       "0        [Led, by, Woody,, Andy's, toys, live, happily,...\n",
       "1        [When, siblings, Judy, and, Peter, discover, a...\n",
       "3        [Cheated, on,, mistreated, and, stepped, on,, ...\n",
       "5        [Obsessive, master, thief,, Neil, McCauley, le...\n",
       "6        [An, ugly, duckling, having, undergone, a, rem...\n",
       "                               ...                        \n",
       "45290    [Igor,, a, furniture, store, manager,, tries, ...\n",
       "45296    [Somewhere, deep,, deep, in, Russia, there, is...\n",
       "45297    [The, sea,, August,, interesting, and, simple,...\n",
       "45299    [У, девушки, Даши,, приехавшей, с, подругой, «...\n",
       "45309    [Failing, to, complete, an, important, assignm...\n",
       "Name: tags, Length: 8880, dtype: object"
      ]
     },
     "execution_count": 84,
     "metadata": {},
     "output_type": "execute_result"
    }
   ],
   "source": [
    "df[\"tags\"]"
   ]
  },
  {
   "cell_type": "code",
   "execution_count": 85,
   "id": "8726421b",
   "metadata": {},
   "outputs": [],
   "source": [
    "# creo el dataset para generar el modelo\n",
    "new_df = df[[\"id\", \"title\", \"tags\"]]"
   ]
  },
  {
   "cell_type": "code",
   "execution_count": 86,
   "id": "ab4bf534",
   "metadata": {},
   "outputs": [
    {
     "data": {
      "text/html": [
       "<div>\n",
       "<style scoped>\n",
       "    .dataframe tbody tr th:only-of-type {\n",
       "        vertical-align: middle;\n",
       "    }\n",
       "\n",
       "    .dataframe tbody tr th {\n",
       "        vertical-align: top;\n",
       "    }\n",
       "\n",
       "    .dataframe thead th {\n",
       "        text-align: right;\n",
       "    }\n",
       "</style>\n",
       "<table border=\"1\" class=\"dataframe\">\n",
       "  <thead>\n",
       "    <tr style=\"text-align: right;\">\n",
       "      <th></th>\n",
       "      <th>id</th>\n",
       "      <th>title</th>\n",
       "      <th>tags</th>\n",
       "    </tr>\n",
       "  </thead>\n",
       "  <tbody>\n",
       "    <tr>\n",
       "      <th>0</th>\n",
       "      <td>862</td>\n",
       "      <td>Toy Story</td>\n",
       "      <td>[Led, by, Woody,, Andy's, toys, live, happily,...</td>\n",
       "    </tr>\n",
       "    <tr>\n",
       "      <th>1</th>\n",
       "      <td>8844</td>\n",
       "      <td>Jumanji</td>\n",
       "      <td>[When, siblings, Judy, and, Peter, discover, a...</td>\n",
       "    </tr>\n",
       "    <tr>\n",
       "      <th>3</th>\n",
       "      <td>31357</td>\n",
       "      <td>Waiting to Exhale</td>\n",
       "      <td>[Cheated, on,, mistreated, and, stepped, on,, ...</td>\n",
       "    </tr>\n",
       "    <tr>\n",
       "      <th>5</th>\n",
       "      <td>949</td>\n",
       "      <td>Heat</td>\n",
       "      <td>[Obsessive, master, thief,, Neil, McCauley, le...</td>\n",
       "    </tr>\n",
       "    <tr>\n",
       "      <th>6</th>\n",
       "      <td>11860</td>\n",
       "      <td>Sabrina</td>\n",
       "      <td>[An, ugly, duckling, having, undergone, a, rem...</td>\n",
       "    </tr>\n",
       "    <tr>\n",
       "      <th>...</th>\n",
       "      <td>...</td>\n",
       "      <td>...</td>\n",
       "      <td>...</td>\n",
       "    </tr>\n",
       "    <tr>\n",
       "      <th>45290</th>\n",
       "      <td>293654</td>\n",
       "      <td>Corporate Event</td>\n",
       "      <td>[Igor,, a, furniture, store, manager,, tries, ...</td>\n",
       "    </tr>\n",
       "    <tr>\n",
       "      <th>45296</th>\n",
       "      <td>100152</td>\n",
       "      <td>Mars</td>\n",
       "      <td>[Somewhere, deep,, deep, in, Russia, there, is...</td>\n",
       "    </tr>\n",
       "    <tr>\n",
       "      <th>45297</th>\n",
       "      <td>62757</td>\n",
       "      <td>Savages</td>\n",
       "      <td>[The, sea,, August,, interesting, and, simple,...</td>\n",
       "    </tr>\n",
       "    <tr>\n",
       "      <th>45299</th>\n",
       "      <td>63281</td>\n",
       "      <td>Pro Lyuboff</td>\n",
       "      <td>[У, девушки, Даши,, приехавшей, с, подругой, «...</td>\n",
       "    </tr>\n",
       "    <tr>\n",
       "      <th>45309</th>\n",
       "      <td>63898</td>\n",
       "      <td>Antidur</td>\n",
       "      <td>[Failing, to, complete, an, important, assignm...</td>\n",
       "    </tr>\n",
       "  </tbody>\n",
       "</table>\n",
       "<p>8880 rows × 3 columns</p>\n",
       "</div>"
      ],
      "text/plain": [
       "           id              title  \\\n",
       "0         862          Toy Story   \n",
       "1        8844            Jumanji   \n",
       "3       31357  Waiting to Exhale   \n",
       "5         949               Heat   \n",
       "6       11860            Sabrina   \n",
       "...       ...                ...   \n",
       "45290  293654    Corporate Event   \n",
       "45296  100152               Mars   \n",
       "45297   62757            Savages   \n",
       "45299   63281        Pro Lyuboff   \n",
       "45309   63898            Antidur   \n",
       "\n",
       "                                                    tags  \n",
       "0      [Led, by, Woody,, Andy's, toys, live, happily,...  \n",
       "1      [When, siblings, Judy, and, Peter, discover, a...  \n",
       "3      [Cheated, on,, mistreated, and, stepped, on,, ...  \n",
       "5      [Obsessive, master, thief,, Neil, McCauley, le...  \n",
       "6      [An, ugly, duckling, having, undergone, a, rem...  \n",
       "...                                                  ...  \n",
       "45290  [Igor,, a, furniture, store, manager,, tries, ...  \n",
       "45296  [Somewhere, deep,, deep, in, Russia, there, is...  \n",
       "45297  [The, sea,, August,, interesting, and, simple,...  \n",
       "45299  [У, девушки, Даши,, приехавшей, с, подругой, «...  \n",
       "45309  [Failing, to, complete, an, important, assignm...  \n",
       "\n",
       "[8880 rows x 3 columns]"
      ]
     },
     "execution_count": 86,
     "metadata": {},
     "output_type": "execute_result"
    }
   ],
   "source": [
    "# visualizo el dataframe resultante\n",
    "new_df"
   ]
  },
  {
   "cell_type": "code",
   "execution_count": null,
   "id": "2fd12135",
   "metadata": {},
   "outputs": [],
   "source": [
    "# exporto el dataframe, en este caso con extensión .parquet para reducir el tamaño\n",
    "new_df.to_parquet('datasets/datasets_modelos/movies_model.parquet')"
   ]
  },
  {
   "cell_type": "code",
   "execution_count": 87,
   "id": "5ea3859d",
   "metadata": {},
   "outputs": [],
   "source": [
    "# elimino de la memoria\n",
    "del df"
   ]
  },
  {
   "cell_type": "code",
   "execution_count": 89,
   "id": "d4a2afb2",
   "metadata": {},
   "outputs": [
    {
     "data": {
      "text/html": [
       "<div>\n",
       "<style scoped>\n",
       "    .dataframe tbody tr th:only-of-type {\n",
       "        vertical-align: middle;\n",
       "    }\n",
       "\n",
       "    .dataframe tbody tr th {\n",
       "        vertical-align: top;\n",
       "    }\n",
       "\n",
       "    .dataframe thead th {\n",
       "        text-align: right;\n",
       "    }\n",
       "</style>\n",
       "<table border=\"1\" class=\"dataframe\">\n",
       "  <thead>\n",
       "    <tr style=\"text-align: right;\">\n",
       "      <th></th>\n",
       "      <th>id</th>\n",
       "      <th>title</th>\n",
       "      <th>tags</th>\n",
       "    </tr>\n",
       "  </thead>\n",
       "  <tbody>\n",
       "    <tr>\n",
       "      <th>0</th>\n",
       "      <td>862</td>\n",
       "      <td>Toy Story</td>\n",
       "      <td>[Led, by, Woody,, Andy's, toys, live, happily,...</td>\n",
       "    </tr>\n",
       "    <tr>\n",
       "      <th>1</th>\n",
       "      <td>8844</td>\n",
       "      <td>Jumanji</td>\n",
       "      <td>[When, siblings, Judy, and, Peter, discover, a...</td>\n",
       "    </tr>\n",
       "    <tr>\n",
       "      <th>3</th>\n",
       "      <td>31357</td>\n",
       "      <td>Waiting to Exhale</td>\n",
       "      <td>[Cheated, on,, mistreated, and, stepped, on,, ...</td>\n",
       "    </tr>\n",
       "    <tr>\n",
       "      <th>5</th>\n",
       "      <td>949</td>\n",
       "      <td>Heat</td>\n",
       "      <td>[Obsessive, master, thief,, Neil, McCauley, le...</td>\n",
       "    </tr>\n",
       "    <tr>\n",
       "      <th>6</th>\n",
       "      <td>11860</td>\n",
       "      <td>Sabrina</td>\n",
       "      <td>[An, ugly, duckling, having, undergone, a, rem...</td>\n",
       "    </tr>\n",
       "  </tbody>\n",
       "</table>\n",
       "</div>"
      ],
      "text/plain": [
       "      id              title                                               tags\n",
       "0    862          Toy Story  [Led, by, Woody,, Andy's, toys, live, happily,...\n",
       "1   8844            Jumanji  [When, siblings, Judy, and, Peter, discover, a...\n",
       "3  31357  Waiting to Exhale  [Cheated, on,, mistreated, and, stepped, on,, ...\n",
       "5    949               Heat  [Obsessive, master, thief,, Neil, McCauley, le...\n",
       "6  11860            Sabrina  [An, ugly, duckling, having, undergone, a, rem..."
      ]
     },
     "execution_count": 89,
     "metadata": {},
     "output_type": "execute_result"
    }
   ],
   "source": [
    "# visualizo el dataframe resultante\n",
    "new_df.head()"
   ]
  },
  {
   "cell_type": "code",
   "execution_count": 90,
   "id": "e36a099c",
   "metadata": {},
   "outputs": [
    {
     "name": "stdout",
     "output_type": "stream",
     "text": [
      "<class 'pandas.core.frame.DataFrame'>\n",
      "Index: 8880 entries, 0 to 45309\n",
      "Data columns (total 3 columns):\n",
      " #   Column  Non-Null Count  Dtype \n",
      "---  ------  --------------  ----- \n",
      " 0   id      8880 non-null   int64 \n",
      " 1   title   8880 non-null   object\n",
      " 2   tags    8880 non-null   object\n",
      "dtypes: int64(1), object(2)\n",
      "memory usage: 277.5+ KB\n"
     ]
    }
   ],
   "source": [
    "new_df.info()"
   ]
  }
 ],
 "metadata": {
  "kernelspec": {
   "display_name": "Python 3 (ipykernel)",
   "language": "python",
   "name": "python3"
  },
  "language_info": {
   "codemirror_mode": {
    "name": "ipython",
    "version": 3
   },
   "file_extension": ".py",
   "mimetype": "text/x-python",
   "name": "python",
   "nbconvert_exporter": "python",
   "pygments_lexer": "ipython3",
   "version": "3.10.12"
  }
 },
 "nbformat": 4,
 "nbformat_minor": 5
}
